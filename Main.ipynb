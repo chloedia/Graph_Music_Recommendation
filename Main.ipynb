{
 "cells": [
  {
   "cell_type": "markdown",
   "metadata": {},
   "source": [
    "<center><h1>Music recommendation using graphs</h1>\n",
    "<h2>MLNS PROJECT</h2>\n",
    "<h3>Coded by Chloé Daems, Amir Mahmoudi and Anne-Claire Laisney</h3>\n",
    "</center>\n",
    "\n",
    "This is the main notebook to create a benchmark of graph based music recommendation systems inspired by the *Katarya, R., Verma, O.P. Efficient music recommender system using context graph and particle swarm. Multimed Tools Appl 77, 2673–2687 (2018).* [paper](URL 'https://link.springer.com/article/10.1007/s11042-017-4447-x'), using data from the user.getRecentTracks of the [Last.fm](URL 'https://www.last.fm/api/show/user.getRecentTracks') API."
   ]
  },
  {
   "cell_type": "code",
   "execution_count": 1,
   "metadata": {},
   "outputs": [],
   "source": [
    "#Import the libraries\n",
    "from os.path import exists\n",
    "import pandas as pd\n",
    "import networkx as nx\n",
    "import matplotlib.pyplot as plt\n",
    "import numpy as np\n",
    "import datetime\n",
    "from scipy.sparse import *\n",
    "from sklearn.linear_model import LogisticRegression\n",
    "from sklearn.metrics import roc_auc_score, roc_curve, auc\n",
    "\n",
    "from IPython.display import clear_output\n",
    "\n",
    "from utils.dataframe_utils import *\n",
    "from utils.graph_utils import *"
   ]
  },
  {
   "cell_type": "markdown",
   "metadata": {},
   "source": [
    "## Create the graph"
   ]
  },
  {
   "cell_type": "markdown",
   "metadata": {},
   "source": [
    "**Get the dataset**"
   ]
  },
  {
   "cell_type": "code",
   "execution_count": 2,
   "metadata": {},
   "outputs": [
    {
     "name": "stderr",
     "output_type": "stream",
     "text": [
      "/usr/local/lib/python3.9/site-packages/numpy/lib/arraysetops.py:580: FutureWarning: elementwise comparison failed; returning scalar instead, but in the future will perform elementwise comparison\n",
      "  mask |= (ar1 == a)\n"
     ]
    }
   ],
   "source": [
    "user_id_profile = pd.read_csv('lastfm-dataset-1K/userid-profile.tsv', sep = '\\t')\n",
    "user_id_logs = users('lastfm-dataset-1K/user_id_logs_v2.tsv')"
   ]
  },
  {
   "cell_type": "code",
   "execution_count": 3,
   "metadata": {},
   "outputs": [
    {
     "data": {
      "text/html": [
       "<div>\n",
       "<style scoped>\n",
       "    .dataframe tbody tr th:only-of-type {\n",
       "        vertical-align: middle;\n",
       "    }\n",
       "\n",
       "    .dataframe tbody tr th {\n",
       "        vertical-align: top;\n",
       "    }\n",
       "\n",
       "    .dataframe thead th {\n",
       "        text-align: right;\n",
       "    }\n",
       "</style>\n",
       "<table border=\"1\" class=\"dataframe\">\n",
       "  <thead>\n",
       "    <tr style=\"text-align: right;\">\n",
       "      <th></th>\n",
       "      <th>#id</th>\n",
       "      <th>gender</th>\n",
       "      <th>age</th>\n",
       "      <th>country</th>\n",
       "      <th>registered</th>\n",
       "    </tr>\n",
       "  </thead>\n",
       "  <tbody>\n",
       "    <tr>\n",
       "      <th>0</th>\n",
       "      <td>user_000001</td>\n",
       "      <td>m</td>\n",
       "      <td>NaN</td>\n",
       "      <td>Japan</td>\n",
       "      <td>Aug 13, 2006</td>\n",
       "    </tr>\n",
       "    <tr>\n",
       "      <th>1</th>\n",
       "      <td>user_000002</td>\n",
       "      <td>f</td>\n",
       "      <td>NaN</td>\n",
       "      <td>Peru</td>\n",
       "      <td>Feb 24, 2006</td>\n",
       "    </tr>\n",
       "    <tr>\n",
       "      <th>2</th>\n",
       "      <td>user_000003</td>\n",
       "      <td>m</td>\n",
       "      <td>22.0</td>\n",
       "      <td>United States</td>\n",
       "      <td>Oct 30, 2005</td>\n",
       "    </tr>\n",
       "    <tr>\n",
       "      <th>3</th>\n",
       "      <td>user_000004</td>\n",
       "      <td>f</td>\n",
       "      <td>NaN</td>\n",
       "      <td>NaN</td>\n",
       "      <td>Apr 26, 2006</td>\n",
       "    </tr>\n",
       "    <tr>\n",
       "      <th>4</th>\n",
       "      <td>user_000005</td>\n",
       "      <td>m</td>\n",
       "      <td>NaN</td>\n",
       "      <td>Bulgaria</td>\n",
       "      <td>Jun 29, 2006</td>\n",
       "    </tr>\n",
       "  </tbody>\n",
       "</table>\n",
       "</div>"
      ],
      "text/plain": [
       "           #id gender   age        country    registered\n",
       "0  user_000001      m   NaN          Japan  Aug 13, 2006\n",
       "1  user_000002      f   NaN           Peru  Feb 24, 2006\n",
       "2  user_000003      m  22.0  United States  Oct 30, 2005\n",
       "3  user_000004      f   NaN            NaN  Apr 26, 2006\n",
       "4  user_000005      m   NaN       Bulgaria  Jun 29, 2006"
      ]
     },
     "execution_count": 3,
     "metadata": {},
     "output_type": "execute_result"
    }
   ],
   "source": [
    "user_id_profile.head()"
   ]
  },
  {
   "cell_type": "code",
   "execution_count": 4,
   "metadata": {},
   "outputs": [
    {
     "data": {
      "text/html": [
       "<div>\n",
       "<style scoped>\n",
       "    .dataframe tbody tr th:only-of-type {\n",
       "        vertical-align: middle;\n",
       "    }\n",
       "\n",
       "    .dataframe tbody tr th {\n",
       "        vertical-align: top;\n",
       "    }\n",
       "\n",
       "    .dataframe thead th {\n",
       "        text-align: right;\n",
       "    }\n",
       "</style>\n",
       "<table border=\"1\" class=\"dataframe\">\n",
       "  <thead>\n",
       "    <tr style=\"text-align: right;\">\n",
       "      <th></th>\n",
       "      <th>userid</th>\n",
       "      <th>timestamp</th>\n",
       "      <th>artist-id</th>\n",
       "      <th>artist-name</th>\n",
       "      <th>track-id</th>\n",
       "      <th>track-name</th>\n",
       "    </tr>\n",
       "  </thead>\n",
       "  <tbody>\n",
       "    <tr>\n",
       "      <th>0</th>\n",
       "      <td>user_000001</td>\n",
       "      <td>2009-05-04 23:08:57</td>\n",
       "      <td>f1b1cf71-bd35-4e99-8624-24a6e15f133a</td>\n",
       "      <td>Deep Dish</td>\n",
       "      <td>7369ec4f-b377-5683-86bd-f02897317103</td>\n",
       "      <td>Fuck Me Im Famous (Pacha Ibiza)-09-28-2007</td>\n",
       "    </tr>\n",
       "    <tr>\n",
       "      <th>1</th>\n",
       "      <td>user_000001</td>\n",
       "      <td>2009-05-04 13:54:10</td>\n",
       "      <td>a7f7df4a-77d8-4f12-8acd-5c60c93f4de8</td>\n",
       "      <td>坂本龍一</td>\n",
       "      <td>8a0799b1-2f64-5e7b-9436-2228c9d65637</td>\n",
       "      <td>Composition 0919 (Live_2009_4_15)</td>\n",
       "    </tr>\n",
       "    <tr>\n",
       "      <th>2</th>\n",
       "      <td>user_000001</td>\n",
       "      <td>2009-05-04 13:52:04</td>\n",
       "      <td>a7f7df4a-77d8-4f12-8acd-5c60c93f4de8</td>\n",
       "      <td>坂本龍一</td>\n",
       "      <td>44da66dc-6a34-54de-a4d9-686bc38ede0f</td>\n",
       "      <td>Mc2 (Live_2009_4_15)</td>\n",
       "    </tr>\n",
       "    <tr>\n",
       "      <th>3</th>\n",
       "      <td>user_000001</td>\n",
       "      <td>2009-05-04 13:42:52</td>\n",
       "      <td>a7f7df4a-77d8-4f12-8acd-5c60c93f4de8</td>\n",
       "      <td>坂本龍一</td>\n",
       "      <td>e625acbe-1360-528d-8afe-4ad88424e0c0</td>\n",
       "      <td>Hibari (Live_2009_4_15)</td>\n",
       "    </tr>\n",
       "    <tr>\n",
       "      <th>4</th>\n",
       "      <td>user_000001</td>\n",
       "      <td>2009-05-04 13:42:11</td>\n",
       "      <td>a7f7df4a-77d8-4f12-8acd-5c60c93f4de8</td>\n",
       "      <td>坂本龍一</td>\n",
       "      <td>fa332ed7-b701-5669-9e8e-0961658cdb43</td>\n",
       "      <td>Mc1 (Live_2009_4_15)</td>\n",
       "    </tr>\n",
       "  </tbody>\n",
       "</table>\n",
       "</div>"
      ],
      "text/plain": [
       "        userid           timestamp                             artist-id  \\\n",
       "0  user_000001 2009-05-04 23:08:57  f1b1cf71-bd35-4e99-8624-24a6e15f133a   \n",
       "1  user_000001 2009-05-04 13:54:10  a7f7df4a-77d8-4f12-8acd-5c60c93f4de8   \n",
       "2  user_000001 2009-05-04 13:52:04  a7f7df4a-77d8-4f12-8acd-5c60c93f4de8   \n",
       "3  user_000001 2009-05-04 13:42:52  a7f7df4a-77d8-4f12-8acd-5c60c93f4de8   \n",
       "4  user_000001 2009-05-04 13:42:11  a7f7df4a-77d8-4f12-8acd-5c60c93f4de8   \n",
       "\n",
       "  artist-name                              track-id  \\\n",
       "0   Deep Dish  7369ec4f-b377-5683-86bd-f02897317103   \n",
       "1        坂本龍一  8a0799b1-2f64-5e7b-9436-2228c9d65637   \n",
       "2        坂本龍一  44da66dc-6a34-54de-a4d9-686bc38ede0f   \n",
       "3        坂本龍一  e625acbe-1360-528d-8afe-4ad88424e0c0   \n",
       "4        坂本龍一  fa332ed7-b701-5669-9e8e-0961658cdb43   \n",
       "\n",
       "                                   track-name  \n",
       "0  Fuck Me Im Famous (Pacha Ibiza)-09-28-2007  \n",
       "1           Composition 0919 (Live_2009_4_15)  \n",
       "2                        Mc2 (Live_2009_4_15)  \n",
       "3                     Hibari (Live_2009_4_15)  \n",
       "4                        Mc1 (Live_2009_4_15)  "
      ]
     },
     "execution_count": 4,
     "metadata": {},
     "output_type": "execute_result"
    }
   ],
   "source": [
    "user_id_logs.head()"
   ]
  },
  {
   "cell_type": "markdown",
   "metadata": {},
   "source": [
    "**We create a train and test set**\n",
    "\n",
    "In the test set, we would have only the 2 last month of listening for each users."
   ]
  },
  {
   "cell_type": "code",
   "execution_count": 5,
   "metadata": {},
   "outputs": [],
   "source": [
    "try:\n",
    "    test_user_id_logs = user_id_logs[user_id_logs['timestamp'] > datetime.datetime(2009, 3, 4).replace(tzinfo=datetime.timezone.utc)]\n",
    "    train_user_id_logs = user_id_logs[user_id_logs['timestamp'] < datetime.datetime(2009, 3, 4).replace(tzinfo=datetime.timezone.utc)]\n",
    "except:\n",
    "    test_user_id_logs = user_id_logs[user_id_logs['timestamp'] > datetime.datetime(2009, 3, 4)]\n",
    "    train_user_id_logs = user_id_logs[user_id_logs['timestamp'] < datetime.datetime(2009, 3, 4)]\n",
    "\n",
    "try:\n",
    "    val_user_id_logs = train_user_id_logs[train_user_id_logs['timestamp'] > datetime.datetime(2009, 1, 4).replace(tzinfo=datetime.timezone.utc)]\n",
    "    train_user_id_logs = train_user_id_logs[train_user_id_logs['timestamp'] < datetime.datetime(2009, 1, 4).replace(tzinfo=datetime.timezone.utc)]\n",
    "except:\n",
    "    val_user_id_logs = train_user_id_logs[train_user_id_logs['timestamp'] > datetime.datetime(2009, 1, 4)]\n",
    "    train_user_id_logs = train_user_id_logs[train_user_id_logs['timestamp'] < datetime.datetime(2009, 1, 4)]"
   ]
  },
  {
   "cell_type": "code",
   "execution_count": 6,
   "metadata": {},
   "outputs": [
    {
     "name": "stdout",
     "output_type": "stream",
     "text": [
      "train shape : ((7975441, 6), val shape : ((544126, 6)) and test shape : ((613400, 6))\n"
     ]
    }
   ],
   "source": [
    "print(f'train shape : ({train_user_id_logs.shape}, val shape : ({val_user_id_logs.shape}) and test shape : ({test_user_id_logs.shape})')"
   ]
  },
  {
   "cell_type": "markdown",
   "metadata": {},
   "source": [
    "**Let's only take the n most listened songs of each users**"
   ]
  },
  {
   "cell_type": "code",
   "execution_count": 7,
   "metadata": {},
   "outputs": [
    {
     "data": {
      "text/html": [
       "<div>\n",
       "<style scoped>\n",
       "    .dataframe tbody tr th:only-of-type {\n",
       "        vertical-align: middle;\n",
       "    }\n",
       "\n",
       "    .dataframe tbody tr th {\n",
       "        vertical-align: top;\n",
       "    }\n",
       "\n",
       "    .dataframe thead th {\n",
       "        text-align: right;\n",
       "    }\n",
       "</style>\n",
       "<table border=\"1\" class=\"dataframe\">\n",
       "  <thead>\n",
       "    <tr style=\"text-align: right;\">\n",
       "      <th></th>\n",
       "      <th>track-name</th>\n",
       "      <th>artist-name</th>\n",
       "      <th>userid</th>\n",
       "      <th>artist-id</th>\n",
       "      <th>track-id</th>\n",
       "      <th>count</th>\n",
       "    </tr>\n",
       "  </thead>\n",
       "  <tbody>\n",
       "    <tr>\n",
       "      <th>43661</th>\n",
       "      <td>Jolene</td>\n",
       "      <td>Cake</td>\n",
       "      <td>user_000949</td>\n",
       "      <td>fa7b9055-3703-473a-8a09-adf2fe031a24</td>\n",
       "      <td>60f0bfa4-8da9-4840-b5fe-23c1fc470f34</td>\n",
       "      <td>1456.0</td>\n",
       "    </tr>\n",
       "    <tr>\n",
       "      <th>43662</th>\n",
       "      <td>Staring At The Sun</td>\n",
       "      <td>Tv On The Radio</td>\n",
       "      <td>user_000949</td>\n",
       "      <td>eb872766-98f6-453d-883f-2ae908a18315</td>\n",
       "      <td>64581a21-566d-4b24-99ae-c5f48b75e660</td>\n",
       "      <td>1409.0</td>\n",
       "    </tr>\n",
       "    <tr>\n",
       "      <th>6809</th>\n",
       "      <td>Wings Of Words</td>\n",
       "      <td>Chemistry</td>\n",
       "      <td>user_000141</td>\n",
       "      <td>c8524763-e7d7-4225-8a9a-e7b64db5a1e2</td>\n",
       "      <td>2caf09d4-aad9-5f2d-b66d-616f2c2d0e35</td>\n",
       "      <td>1365.0</td>\n",
       "    </tr>\n",
       "    <tr>\n",
       "      <th>43663</th>\n",
       "      <td>Heartbeats</td>\n",
       "      <td>The Knife</td>\n",
       "      <td>user_000949</td>\n",
       "      <td>bf710b71-48e5-4e15-9bd6-96debb2e4e98</td>\n",
       "      <td>db4c9220-df76-4b42-b6f5-8bf52cc80f77</td>\n",
       "      <td>1362.0</td>\n",
       "    </tr>\n",
       "    <tr>\n",
       "      <th>43664</th>\n",
       "      <td>Anthems For A Seventeen Year Old Girl</td>\n",
       "      <td>Broken Social Scene</td>\n",
       "      <td>user_000949</td>\n",
       "      <td>2eada8f8-056a-4093-bbc2-004909ce743b</td>\n",
       "      <td>91951530-d978-4648-95b1-08b1f49ffba5</td>\n",
       "      <td>1352.0</td>\n",
       "    </tr>\n",
       "  </tbody>\n",
       "</table>\n",
       "</div>"
      ],
      "text/plain": [
       "                                  track-name          artist-name  \\\n",
       "43661                                 Jolene                 Cake   \n",
       "43662                     Staring At The Sun      Tv On The Radio   \n",
       "6809                          Wings Of Words            Chemistry   \n",
       "43663                             Heartbeats            The Knife   \n",
       "43664  Anthems For A Seventeen Year Old Girl  Broken Social Scene   \n",
       "\n",
       "            userid                             artist-id  \\\n",
       "43661  user_000949  fa7b9055-3703-473a-8a09-adf2fe031a24   \n",
       "43662  user_000949  eb872766-98f6-453d-883f-2ae908a18315   \n",
       "6809   user_000141  c8524763-e7d7-4225-8a9a-e7b64db5a1e2   \n",
       "43663  user_000949  bf710b71-48e5-4e15-9bd6-96debb2e4e98   \n",
       "43664  user_000949  2eada8f8-056a-4093-bbc2-004909ce743b   \n",
       "\n",
       "                                   track-id   count  \n",
       "43661  60f0bfa4-8da9-4840-b5fe-23c1fc470f34  1456.0  \n",
       "43662  64581a21-566d-4b24-99ae-c5f48b75e660  1409.0  \n",
       "6809   2caf09d4-aad9-5f2d-b66d-616f2c2d0e35  1365.0  \n",
       "43663  db4c9220-df76-4b42-b6f5-8bf52cc80f77  1362.0  \n",
       "43664  91951530-d978-4648-95b1-08b1f49ffba5  1352.0  "
      ]
     },
     "execution_count": 7,
     "metadata": {},
     "output_type": "execute_result"
    }
   ],
   "source": [
    "if not exists('./saved_data/train_user_top_logs.tsv'):\n",
    "    train_user_top_logs = get_only_top(train_user_id_logs,user_id_profile['#id'], n_top = 50)\n",
    "    train_user_top_logs = train_user_top_logs.nlargest(10000,'count')\n",
    "    train_user_top_logs.to_csv('./saved_data/train_user_top_logs.tsv')\n",
    "\n",
    "else : \n",
    "    train_user_top_logs = pd.read_csv('./saved_data/train_user_top_logs.tsv', index_col=0)\n",
    "\n",
    "train_user_top_logs.head()"
   ]
  },
  {
   "cell_type": "markdown",
   "metadata": {},
   "source": [
    "**Transform the dataset into a bipartite graph**"
   ]
  },
  {
   "cell_type": "code",
   "execution_count": 10,
   "metadata": {},
   "outputs": [],
   "source": [
    "#Get all the artists and music dfs\n",
    "track_df, artist_df = bipartite_graph('./saved_data/track_df.tsv','./saved_data/artists_df.tsv',train_user_top_logs)"
   ]
  },
  {
   "cell_type": "code",
   "execution_count": 11,
   "metadata": {},
   "outputs": [
    {
     "data": {
      "text/html": [
       "<div>\n",
       "<style scoped>\n",
       "    .dataframe tbody tr th:only-of-type {\n",
       "        vertical-align: middle;\n",
       "    }\n",
       "\n",
       "    .dataframe tbody tr th {\n",
       "        vertical-align: top;\n",
       "    }\n",
       "\n",
       "    .dataframe thead th {\n",
       "        text-align: right;\n",
       "    }\n",
       "</style>\n",
       "<table border=\"1\" class=\"dataframe\">\n",
       "  <thead>\n",
       "    <tr style=\"text-align: right;\">\n",
       "      <th></th>\n",
       "      <th>track-name</th>\n",
       "      <th>artist-name</th>\n",
       "      <th>artist-id</th>\n",
       "      <th>track-id</th>\n",
       "    </tr>\n",
       "  </thead>\n",
       "  <tbody>\n",
       "    <tr>\n",
       "      <th>0</th>\n",
       "      <td>Music</td>\n",
       "      <td>Cornelius</td>\n",
       "      <td>df765d93-621c-437f-99fe-fda9e135f89a</td>\n",
       "      <td>52bef5e2-17b6-5742-b846-09a6b750e857</td>\n",
       "    </tr>\n",
       "    <tr>\n",
       "      <th>1</th>\n",
       "      <td>Gum</td>\n",
       "      <td>Cornelius</td>\n",
       "      <td>df765d93-621c-437f-99fe-fda9e135f89a</td>\n",
       "      <td>bb9a7981-016d-596e-b17f-ba07a346d2d4</td>\n",
       "    </tr>\n",
       "    <tr>\n",
       "      <th>2</th>\n",
       "      <td>Mario Basanov &amp; Vidis ‘Test’</td>\n",
       "      <td>Gilles Peterson</td>\n",
       "      <td>4c4e3121-4d12-4f7a-a77c-5becd849fb3c</td>\n",
       "      <td>7434fb0f-1245-5a58-b343-cca4d0e2c107</td>\n",
       "    </tr>\n",
       "    <tr>\n",
       "      <th>3</th>\n",
       "      <td>Child Song</td>\n",
       "      <td>The Cinematic Orchestra</td>\n",
       "      <td>7c158ea8-c0aa-410e-bdc1-20bba9759577</td>\n",
       "      <td>4562ff4f-b619-5557-8600-87f6d0d9f348</td>\n",
       "    </tr>\n",
       "    <tr>\n",
       "      <th>4</th>\n",
       "      <td>To Build A Home</td>\n",
       "      <td>The Cinematic Orchestra</td>\n",
       "      <td>7c158ea8-c0aa-410e-bdc1-20bba9759577</td>\n",
       "      <td>dcf825de-85a9-5b53-9d2b-a9d574b57470</td>\n",
       "    </tr>\n",
       "  </tbody>\n",
       "</table>\n",
       "</div>"
      ],
      "text/plain": [
       "                     track-name              artist-name  \\\n",
       "0                         Music                Cornelius   \n",
       "1                           Gum                Cornelius   \n",
       "2  Mario Basanov & Vidis ‘Test’          Gilles Peterson   \n",
       "3                    Child Song  The Cinematic Orchestra   \n",
       "4               To Build A Home  The Cinematic Orchestra   \n",
       "\n",
       "                              artist-id                              track-id  \n",
       "0  df765d93-621c-437f-99fe-fda9e135f89a  52bef5e2-17b6-5742-b846-09a6b750e857  \n",
       "1  df765d93-621c-437f-99fe-fda9e135f89a  bb9a7981-016d-596e-b17f-ba07a346d2d4  \n",
       "2  4c4e3121-4d12-4f7a-a77c-5becd849fb3c  7434fb0f-1245-5a58-b343-cca4d0e2c107  \n",
       "3  7c158ea8-c0aa-410e-bdc1-20bba9759577  4562ff4f-b619-5557-8600-87f6d0d9f348  \n",
       "4  7c158ea8-c0aa-410e-bdc1-20bba9759577  dcf825de-85a9-5b53-9d2b-a9d574b57470  "
      ]
     },
     "execution_count": 11,
     "metadata": {},
     "output_type": "execute_result"
    }
   ],
   "source": [
    "track_df.head()"
   ]
  },
  {
   "cell_type": "code",
   "execution_count": 12,
   "metadata": {},
   "outputs": [
    {
     "data": {
      "text/html": [
       "<div>\n",
       "<style scoped>\n",
       "    .dataframe tbody tr th:only-of-type {\n",
       "        vertical-align: middle;\n",
       "    }\n",
       "\n",
       "    .dataframe tbody tr th {\n",
       "        vertical-align: top;\n",
       "    }\n",
       "\n",
       "    .dataframe thead th {\n",
       "        text-align: right;\n",
       "    }\n",
       "</style>\n",
       "<table border=\"1\" class=\"dataframe\">\n",
       "  <thead>\n",
       "    <tr style=\"text-align: right;\">\n",
       "      <th></th>\n",
       "      <th>artist-name</th>\n",
       "      <th>artist-id</th>\n",
       "    </tr>\n",
       "  </thead>\n",
       "  <tbody>\n",
       "    <tr>\n",
       "      <th>0</th>\n",
       "      <td>Cornelius</td>\n",
       "      <td>df765d93-621c-437f-99fe-fda9e135f89a</td>\n",
       "    </tr>\n",
       "    <tr>\n",
       "      <th>1</th>\n",
       "      <td>Gilles Peterson</td>\n",
       "      <td>4c4e3121-4d12-4f7a-a77c-5becd849fb3c</td>\n",
       "    </tr>\n",
       "    <tr>\n",
       "      <th>2</th>\n",
       "      <td>The Cinematic Orchestra</td>\n",
       "      <td>7c158ea8-c0aa-410e-bdc1-20bba9759577</td>\n",
       "    </tr>\n",
       "    <tr>\n",
       "      <th>3</th>\n",
       "      <td>Radiohead</td>\n",
       "      <td>a74b1b7f-71a5-4011-9441-d0b5e4122711</td>\n",
       "    </tr>\n",
       "    <tr>\n",
       "      <th>4</th>\n",
       "      <td>A Hundred Birds</td>\n",
       "      <td>f5341587-6c20-4e0f-bdfd-62b2122825f2</td>\n",
       "    </tr>\n",
       "  </tbody>\n",
       "</table>\n",
       "</div>"
      ],
      "text/plain": [
       "               artist-name                             artist-id\n",
       "0                Cornelius  df765d93-621c-437f-99fe-fda9e135f89a\n",
       "1          Gilles Peterson  4c4e3121-4d12-4f7a-a77c-5becd849fb3c\n",
       "2  The Cinematic Orchestra  7c158ea8-c0aa-410e-bdc1-20bba9759577\n",
       "3                Radiohead  a74b1b7f-71a5-4011-9441-d0b5e4122711\n",
       "4          A Hundred Birds  f5341587-6c20-4e0f-bdfd-62b2122825f2"
      ]
     },
     "execution_count": 12,
     "metadata": {},
     "output_type": "execute_result"
    }
   ],
   "source": [
    "artist_df.head()"
   ]
  },
  {
   "cell_type": "markdown",
   "metadata": {},
   "source": [
    "We create the train graph"
   ]
  },
  {
   "cell_type": "code",
   "execution_count": 15,
   "metadata": {},
   "outputs": [],
   "source": [
    "G = graph_generator(train_user_top_logs,train_user_top_logs,user_id_profile,track_df,artist_df)\n",
    "nx.write_gml(G, \"saved_data/graph_user_tracks_train.gml\")\n"
   ]
  },
  {
   "cell_type": "markdown",
   "metadata": {},
   "source": [
    "**Now we transform the validation data set in a bipartite graph**"
   ]
  },
  {
   "cell_type": "code",
   "execution_count": 18,
   "metadata": {},
   "outputs": [
    {
     "name": "stdout",
     "output_type": "stream",
     "text": [
      "Just finished for user_001000\n"
     ]
    }
   ],
   "source": [
    "#We transform the val set into a bipartite graph\n",
    "\n",
    "#First we select only the music tracks that are in the train set\n",
    "val_user_id_logs = val_user_id_logs[val_user_id_logs['track-id'].isin(track_df['track-id'])]\n",
    "val_user_top_logs = get_only_top(val_user_id_logs,user_id_profile['#id'], n_top = -1)"
   ]
  },
  {
   "cell_type": "code",
   "execution_count": 19,
   "metadata": {},
   "outputs": [],
   "source": [
    "#Then we create the graph\n",
    "G_val = graph_generator(val_user_top_logs,train_user_top_logs,user_id_profile,track_df,artist_df)\n",
    "#save the graph\n",
    "nx.write_gml(G_val, \"saved_data/graph_user_tracks_val.gml\")"
   ]
  },
  {
   "cell_type": "code",
   "execution_count": 20,
   "metadata": {},
   "outputs": [
    {
     "name": "stdout",
     "output_type": "stream",
     "text": [
      "Just finished for user_001000\n"
     ]
    }
   ],
   "source": [
    "#We transform the test set into a bipartite graph\n",
    "\n",
    "#First we select only the music tracks that are in the train set\n",
    "test_user_id_logs = test_user_id_logs[test_user_id_logs['track-id'].isin(track_df['track-id'])]\n",
    "test_user_top_logs = get_only_top(test_user_id_logs,user_id_profile['#id'], n_top = -1)"
   ]
  },
  {
   "cell_type": "code",
   "execution_count": 21,
   "metadata": {},
   "outputs": [],
   "source": [
    "#Then we create the graph\n",
    "G_test_gt = graph_generator(test_user_top_logs,train_user_top_logs,user_id_profile,track_df,artist_df)\n",
    "#save the graph\n",
    "nx.write_gml(G_test_gt, \"saved_data/graph_user_tracks_test_groundtruth.gml\")"
   ]
  },
  {
   "cell_type": "code",
   "execution_count": 22,
   "metadata": {},
   "outputs": [
    {
     "data": {
      "text/html": [
       "<div>\n",
       "<style scoped>\n",
       "    .dataframe tbody tr th:only-of-type {\n",
       "        vertical-align: middle;\n",
       "    }\n",
       "\n",
       "    .dataframe tbody tr th {\n",
       "        vertical-align: top;\n",
       "    }\n",
       "\n",
       "    .dataframe thead th {\n",
       "        text-align: right;\n",
       "    }\n",
       "</style>\n",
       "<table border=\"1\" class=\"dataframe\">\n",
       "  <thead>\n",
       "    <tr style=\"text-align: right;\">\n",
       "      <th></th>\n",
       "      <th>track-name</th>\n",
       "      <th>artist-name</th>\n",
       "      <th>userid</th>\n",
       "      <th>artist-id</th>\n",
       "      <th>track-id</th>\n",
       "      <th>count</th>\n",
       "    </tr>\n",
       "  </thead>\n",
       "  <tbody>\n",
       "    <tr>\n",
       "      <th>0</th>\n",
       "      <td>Jolene</td>\n",
       "      <td>Cake</td>\n",
       "      <td>user_000949</td>\n",
       "      <td>fa7b9055-3703-473a-8a09-adf2fe031a24</td>\n",
       "      <td>60f0bfa4-8da9-4840-b5fe-23c1fc470f34</td>\n",
       "      <td>1456.0</td>\n",
       "    </tr>\n",
       "    <tr>\n",
       "      <th>1</th>\n",
       "      <td>Staring At The Sun</td>\n",
       "      <td>Tv On The Radio</td>\n",
       "      <td>user_000949</td>\n",
       "      <td>eb872766-98f6-453d-883f-2ae908a18315</td>\n",
       "      <td>64581a21-566d-4b24-99ae-c5f48b75e660</td>\n",
       "      <td>1409.0</td>\n",
       "    </tr>\n",
       "    <tr>\n",
       "      <th>2</th>\n",
       "      <td>Wings Of Words</td>\n",
       "      <td>Chemistry</td>\n",
       "      <td>user_000141</td>\n",
       "      <td>c8524763-e7d7-4225-8a9a-e7b64db5a1e2</td>\n",
       "      <td>2caf09d4-aad9-5f2d-b66d-616f2c2d0e35</td>\n",
       "      <td>1365.0</td>\n",
       "    </tr>\n",
       "    <tr>\n",
       "      <th>3</th>\n",
       "      <td>Heartbeats</td>\n",
       "      <td>The Knife</td>\n",
       "      <td>user_000949</td>\n",
       "      <td>bf710b71-48e5-4e15-9bd6-96debb2e4e98</td>\n",
       "      <td>db4c9220-df76-4b42-b6f5-8bf52cc80f77</td>\n",
       "      <td>1362.0</td>\n",
       "    </tr>\n",
       "    <tr>\n",
       "      <th>4</th>\n",
       "      <td>Anthems For A Seventeen Year Old Girl</td>\n",
       "      <td>Broken Social Scene</td>\n",
       "      <td>user_000949</td>\n",
       "      <td>2eada8f8-056a-4093-bbc2-004909ce743b</td>\n",
       "      <td>91951530-d978-4648-95b1-08b1f49ffba5</td>\n",
       "      <td>1352.0</td>\n",
       "    </tr>\n",
       "  </tbody>\n",
       "</table>\n",
       "</div>"
      ],
      "text/plain": [
       "                              track-name          artist-name       userid  \\\n",
       "0                                 Jolene                 Cake  user_000949   \n",
       "1                     Staring At The Sun      Tv On The Radio  user_000949   \n",
       "2                         Wings Of Words            Chemistry  user_000141   \n",
       "3                             Heartbeats            The Knife  user_000949   \n",
       "4  Anthems For A Seventeen Year Old Girl  Broken Social Scene  user_000949   \n",
       "\n",
       "                              artist-id                              track-id  \\\n",
       "0  fa7b9055-3703-473a-8a09-adf2fe031a24  60f0bfa4-8da9-4840-b5fe-23c1fc470f34   \n",
       "1  eb872766-98f6-453d-883f-2ae908a18315  64581a21-566d-4b24-99ae-c5f48b75e660   \n",
       "2  c8524763-e7d7-4225-8a9a-e7b64db5a1e2  2caf09d4-aad9-5f2d-b66d-616f2c2d0e35   \n",
       "3  bf710b71-48e5-4e15-9bd6-96debb2e4e98  db4c9220-df76-4b42-b6f5-8bf52cc80f77   \n",
       "4  2eada8f8-056a-4093-bbc2-004909ce743b  91951530-d978-4648-95b1-08b1f49ffba5   \n",
       "\n",
       "    count  \n",
       "0  1456.0  \n",
       "1  1409.0  \n",
       "2  1365.0  \n",
       "3  1362.0  \n",
       "4  1352.0  "
      ]
     },
     "execution_count": 22,
     "metadata": {},
     "output_type": "execute_result"
    }
   ],
   "source": [
    "# We concat the train and val set to create a new X to predict the test set new links\n",
    "#Concatenate the train and val sets summing the count for the same track and the same user\n",
    "train_val_user_top_logs = pd.concat([train_user_top_logs, val_user_top_logs], ignore_index=True)\n",
    "#sum count column for same track and same user\n",
    "train_val_user_top_logs.head()"
   ]
  },
  {
   "cell_type": "code",
   "execution_count": 24,
   "metadata": {},
   "outputs": [],
   "source": [
    "#Then we create the graph\n",
    "G_test = graph_generator(train_val_user_top_logs,train_user_top_logs,user_id_profile,track_df,artist_df)\n",
    "nx.write_gml(G_test, \"saved_data/graph_user_tracks_train+val.gml\")"
   ]
  },
  {
   "cell_type": "markdown",
   "metadata": {},
   "source": [
    "## Create the models"
   ]
  },
  {
   "cell_type": "markdown",
   "metadata": {},
   "source": [
    "**Get the graph**"
   ]
  },
  {
   "cell_type": "code",
   "execution_count": 2,
   "metadata": {},
   "outputs": [],
   "source": [
    "train_G  = nx.read_gml(\"saved_data/graph_user_tracks_train.gml\")\n",
    "val_G  = nx.read_gml(\"saved_data/graph_user_tracks_val.gml\")\n",
    "G_test = nx.read_gml(\"saved_data/graph_user_tracks_train+val.gml\")\n",
    "G_test_gt = nx.read_gml(\"saved_data/graph_user_tracks_test_groundtruth.gml\")"
   ]
  },
  {
   "cell_type": "markdown",
   "metadata": {},
   "source": [
    "**Modify the graph the reduce the number of links to predict**"
   ]
  },
  {
   "cell_type": "code",
   "execution_count": 3,
   "metadata": {},
   "outputs": [
    {
     "data": {
      "text/plain": [
       "(9359, 9359, 9359, 9359)"
      ]
     },
     "execution_count": 3,
     "metadata": {},
     "output_type": "execute_result"
    }
   ],
   "source": [
    "G_test, train_G,val_G, G_test_gt = remove_low_degree_nodes(G_test,train_G,val_G, G_test_gt)\n",
    "len(G_test.nodes),len(train_G.nodes),len(val_G.nodes), len(G_test_gt.nodes)"
   ]
  },
  {
   "cell_type": "code",
   "execution_count": 4,
   "metadata": {},
   "outputs": [
    {
     "data": {
      "text/plain": [
       "(686, 686, 686, 686)"
      ]
     },
     "execution_count": 4,
     "metadata": {},
     "output_type": "execute_result"
    }
   ],
   "source": [
    "G_test, train_G,val_G,G_test_gt = remove_low_artists(G_test,train_G,val_G, G_test_gt)\n",
    "len(G_test.nodes),len(train_G.nodes),len(val_G.nodes), len(G_test_gt.nodes)"
   ]
  },
  {
   "cell_type": "markdown",
   "metadata": {},
   "source": [
    "#### Unsupervised link prediction"
   ]
  },
  {
   "cell_type": "code",
   "execution_count": 5,
   "metadata": {},
   "outputs": [],
   "source": [
    "def preferential_attachement(graph, edges=train_G.edges()):\n",
    "    PA = {}\n",
    "    \n",
    "    for edge in edges:\n",
    "        PA[edge] = graph.degree(edge[0]) * graph.degree(edge[1])\n",
    "        \n",
    "    return PA\n",
    "    \n",
    "pa = preferential_attachement(train_G)"
   ]
  },
  {
   "cell_type": "code",
   "execution_count": 6,
   "metadata": {},
   "outputs": [],
   "source": [
    "def Jaccard(graph, edges=train_G.edges()):\n",
    "    Jaccard = {}\n",
    "    # Compute Jaccard metric for each non_edge of the graph\n",
    "    \n",
    "    for edge in edges: \n",
    "        inter_size = len(list(nx.common_neighbors(graph, edge[0], edge[1])))\n",
    "        union_size = len(set(graph[edge[0]]) | set(graph[edge[1]]))\n",
    "\n",
    "        if union_size != 0:\n",
    "            Jaccard[edge] = inter_size / union_size\n",
    "        else : \n",
    "            Jaccard[edge] = 0\n",
    "\n",
    "    \n",
    "    return Jaccard"
   ]
  },
  {
   "cell_type": "code",
   "execution_count": 7,
   "metadata": {},
   "outputs": [],
   "source": [
    "def AdamicAdar(graph, edges=train_G.edges()):\n",
    "    AdamicAdar = {}\n",
    "    \n",
    "    for edge in edges: \n",
    "        inter_list = nx.common_neighbors(graph, edge[0], edge[1])\n",
    "        AdamicAdar[edge] = sum( [1/np.log(graph.degree(node)) for node in inter_list] )\n",
    "    \n",
    "    return AdamicAdar"
   ]
  },
  {
   "cell_type": "code",
   "execution_count": 8,
   "metadata": {},
   "outputs": [
    {
     "name": "stdout",
     "output_type": "stream",
     "text": [
      "dict_items([(('user_000787', '0e938086-1f83-5242-944b-7315de233b57'), 198), (('user_000610', '487023bc-e43f-5739-b62d-d634b0e12346'), 154), (('user_000610', '587e8902-dd97-5f4b-b86a-ecf97cdc24a7'), 154), (('user_000714', '4350fd70-bfce-531c-b9f9-1bd7261697ff'), 133), (('user_000714', 'a863f1e4-9c63-5920-af72-f5ab39179dd8'), 133), (('user_000610', '2b81406d-5d45-5710-b177-598f5b3942ab'), 132), (('user_000610', 'e8f0781d-5c0f-5d78-bc63-9f05ba93f6fd'), 132), (('user_000610', '72368dce-d68a-5e76-95e7-f783751419f2'), 132), (('user_000493', '90744886-c2db-590b-bfb6-50d409cddabf'), 128), (('user_000787', '96b089dc-8abd-58ab-b188-283814072b22'), 126)])\n"
     ]
    }
   ],
   "source": [
    "def predict_edges(metric, k):\n",
    "    \n",
    "    # Shuffle randomly entries of dictionnary \n",
    "    l = list(metric.items())\n",
    "    np.random.seed(10) # fix random seed to obtain same random shuffling when repeating experiment\n",
    "    np.random.shuffle(l)\n",
    "    metric = dict(l)\n",
    "\n",
    "    # Retrieve top k value \n",
    "    metric = dict(sorted(metric.items(), key=lambda x:x[1], reverse=True)[:k])\n",
    "    print(metric.items())\n",
    "\n",
    "predict_edges(pa, 10)"
   ]
  },
  {
   "cell_type": "code",
   "execution_count": 13,
   "metadata": {},
   "outputs": [],
   "source": [
    "import tqdm\n",
    "#1 hour to compute NOT TRIED -- (but the result in the state of the art is bad)\n",
    "def evaluation(G_train, G_val):\n",
    "    R = G_val.copy()\n",
    "    R.remove_edges_from(e for e in G_val.edges if e in G_train.edges)\n",
    "    gt = R.edges\n",
    "    k = len(gt)\n",
    "    print(\"Starting predictions\")\n",
    "    # --- Apply each method defined above and calculate its accuracy ---\n",
    "    methods = ['Jaccard', 'AdamicAdar', 'preferential_attachement']\n",
    "    \n",
    "    # For each method, compute the similarity scores between all non-edges\n",
    "    # Predict k node pairs with highest score \n",
    "    # Compute accuracy wrt edges actually removed \n",
    "    for method in methods: \n",
    "        res = eval(method)(G_train, nx.non_edges(G_train))\n",
    "        pred = sorted(res.items(), key = lambda x:x[1], reverse=True)[:k]\n",
    "        pred = [el[0] for el in pred]\n",
    "        #print('pred', pred)\n",
    "        #print('gt',gt)\n",
    "        accuracy = len(set(pred).intersection(set(gt))) / k\n",
    "        print(method, accuracy)"
   ]
  },
  {
   "cell_type": "code",
   "execution_count": 14,
   "metadata": {},
   "outputs": [
    {
     "name": "stdout",
     "output_type": "stream",
     "text": [
      "Starting predictions\n",
      "Jaccard 0.0\n",
      "AdamicAdar 0.0\n",
      "preferential_attachement 0.006993006993006993\n"
     ]
    }
   ],
   "source": [
    "evaluation(train_G, val_G)"
   ]
  },
  {
   "cell_type": "markdown",
   "metadata": {},
   "source": [
    "#### Supervized link prediction"
   ]
  },
  {
   "cell_type": "code",
   "execution_count": 15,
   "metadata": {},
   "outputs": [],
   "source": [
    "from sklearn.metrics import accuracy_score,recall_score,precision_score\n",
    "import collections\n",
    "from tqdm import tqdm"
   ]
  },
  {
   "cell_type": "code",
   "execution_count": 17,
   "metadata": {},
   "outputs": [],
   "source": [
    "#We one hot encode every profile features\n",
    "user_id_profile = pd.read_csv('lastfm-dataset-1K/userid-profile.tsv', sep = '\\t')\n",
    "user_id_profile = pd.get_dummies(user_id_profile, columns = ['gender','country']).drop(['age','registered'], axis = 1 )\n",
    "user_id_profile.set_index('#id', inplace= True)"
   ]
  },
  {
   "cell_type": "code",
   "execution_count": 83,
   "metadata": {},
   "outputs": [],
   "source": [
    "def feature_extractor(graph, samples):\n",
    "    \"\"\"\n",
    "    Creates a feature vector for each edge of the graph contained in samples \n",
    "    \"\"\"\n",
    "    feature_vector = []\n",
    "    \n",
    "    # --- Extract manually diverse features relative to each edge contained in samples --- \n",
    "    # Fill in the blanks\n",
    "\n",
    "    # Degree Centrality measure\n",
    "    deg_centrality = nx.degree_centrality(graph)\n",
    "    \n",
    "    # Betweeness centrality measure\n",
    "    betweeness_centrality = nx.betweenness_centrality(graph)\n",
    "\n",
    "    # PageRank measure\n",
    "    page_rank = nx.pagerank(graph)\n",
    "\n",
    "    # Closeness centrality measure\n",
    "    closeness_centrality = nx.closeness_centrality(graph)\n",
    "\n",
    "    #Katz centrality measure\n",
    "    #katz_centrality = nx.katz_centrality(graph, max_iter = 10000)\n",
    "\n",
    "    # Resource Allocation measure\n",
    "    #resource_allocation = nx.resource_allocation_index(graph)\n",
    "\n",
    "    # --- Extract features relative to each edge contained in samples ---\n",
    "\n",
    "    for edge in tqdm(samples):\n",
    "        source_node, target_node = edge[0], edge[1]\n",
    "\n",
    "        # Degree Centrality\n",
    "        source_degree_centrality = deg_centrality[source_node]\n",
    "        target_degree_centrality = deg_centrality[target_node]\n",
    "        \n",
    "        # Betweeness centrality measure \n",
    "        diff_bt = betweeness_centrality[target_node] - betweeness_centrality[source_node]\n",
    "\n",
    "        # Closeness centrality measure\n",
    "        diff_cl = closeness_centrality[target_node] - closeness_centrality[source_node]\n",
    "\n",
    "        # Preferential Attachement \n",
    "        pref_attach = list(nx.preferential_attachment(graph, [(source_node, target_node)]))[0][2]\n",
    "\n",
    "        #katz centrality measure\n",
    "        #katz = katz_centrality[target_node] - katz_centrality[source_node]\n",
    "\n",
    "        # Get info on the user\n",
    "        source_user_info = user_id_profile.loc[source_node].values\n",
    "\n",
    "        # Distance between the two nodes\n",
    "        try:\n",
    "            distance = nx.shortest_path_length(graph, source_node, target_node)\n",
    "        except:\n",
    "            distance = 0\n",
    "\n",
    "        # PageRank\n",
    "        source_page_rank = page_rank[source_node]\n",
    "        \n",
    "        # Create edge feature vector with all metric computed above\n",
    "        feature_vector.append(np.array([source_degree_centrality, target_degree_centrality, \n",
    "                                        diff_bt, pref_attach, source_page_rank, diff_cl, distance] + source_user_info.tolist())) \n",
    "        \n",
    "    return feature_vector"
   ]
  },
  {
   "cell_type": "markdown",
   "metadata": {},
   "source": [
    "##### Lets try with only detecting for non edges"
   ]
  },
  {
   "cell_type": "code",
   "execution_count": 67,
   "metadata": {},
   "outputs": [],
   "source": [
    "def get_neg_edges_bipartite(G):\n",
    "    top_nodes = set(n for n,d in G.nodes(data=True) if d['bipartite']==0)\n",
    "    low_nodes = set(n for n,d in G.nodes(data=True) if d['bipartite']==1)\n",
    "    adj_matrix = bipartite.biadjacency_matrix(G, row_order=top_nodes, column_order=low_nodes)\n",
    "\n",
    "    negative_edges = []\n",
    "    top = list(top_nodes)\n",
    "    low = list(low_nodes)\n",
    "    for i in tqdm(range(len(top_nodes))):\n",
    "        for j in range(len(low_nodes)):\n",
    "            if adj_matrix[i,j]==0:\n",
    "                negative_edges.append([top[i],low[j]])\n",
    "    return negative_edges"
   ]
  },
  {
   "cell_type": "code",
   "execution_count": 68,
   "metadata": {},
   "outputs": [
    {
     "name": "stderr",
     "output_type": "stream",
     "text": [
      "100%|██████████| 352/352 [00:02<00:00, 163.18it/s]\n"
     ]
    }
   ],
   "source": [
    "from networkx.algorithms import bipartite\n",
    "train_neg_edges = get_neg_edges_bipartite(train_G)"
   ]
  },
  {
   "cell_type": "code",
   "execution_count": 69,
   "metadata": {},
   "outputs": [],
   "source": [
    "def get_edges_values(G, edges):\n",
    "    'Method to return the labels of the edges contained in edges'\n",
    "    all_positive_edges = G.edges()\n",
    "    output = []\n",
    "    for edge in edges:\n",
    "        if(edge in all_positive_edges): \n",
    "            #output.append(G.edges[edge[0],edge[1]]['weight'])\n",
    "            output.append(1)  \n",
    "        else:\n",
    "            output.append(0)\n",
    "\n",
    "    return output"
   ]
  },
  {
   "cell_type": "code",
   "execution_count": 22,
   "metadata": {},
   "outputs": [
    {
     "data": {
      "text/plain": [
       "1287"
      ]
     },
     "execution_count": 22,
     "metadata": {},
     "output_type": "execute_result"
    }
   ],
   "source": [
    "train_labels = get_edges_values(val_G, train_neg_edges)\n",
    "train_labels.count(1)"
   ]
  },
  {
   "cell_type": "code",
   "execution_count": 84,
   "metadata": {},
   "outputs": [
    {
     "name": "stderr",
     "output_type": "stream",
     "text": [
      "100%|██████████| 77352/77352 [00:14<00:00, 5475.76it/s]\n"
     ]
    }
   ],
   "source": [
    "# --- Create feature vector for all edges in training set and test set ---\n",
    "train_features = feature_extractor(train_G, train_neg_edges)"
   ]
  },
  {
   "cell_type": "code",
   "execution_count": 71,
   "metadata": {},
   "outputs": [],
   "source": [
    "from sklearn.svm import LinearSVC, SVC\n",
    "from sklearn.ensemble import AdaBoostClassifier, RandomForestClassifier, BaggingClassifier, ExtraTreesClassifier, GradientBoostingClassifier"
   ]
  },
  {
   "cell_type": "code",
   "execution_count": 72,
   "metadata": {},
   "outputs": [],
   "source": [
    "def train(train_features, train_labels):\n",
    "    \"\"\"\n",
    "    Downstream ML task using edge embeddings to classify them \n",
    "    \"\"\"\n",
    "    \n",
    "    # --- Build the model and train it ---\n",
    "    # Fill in the blanks\n",
    "    clf = GradientBoostingClassifier(random_state= 1999, n_estimators=100, learning_rate=0.1, max_depth=5)\n",
    "\n",
    "    clf.fit(train_features, train_labels)\n",
    "\n",
    "    #compute accuracy\n",
    "    train_preds=clf.predict(train_features)\n",
    "\n",
    "    print(collections.Counter(np.array(train_preds)))\n",
    "    acc=accuracy_score(train_labels,train_preds)\n",
    "    recall=recall_score(train_labels,train_preds)\n",
    "    precision=precision_score(train_labels,train_preds)\n",
    "\n",
    "    print('Accuracy:',acc, 'Recall:',recall, 'Precision:',precision)\n",
    "    \n",
    "    return clf"
   ]
  },
  {
   "cell_type": "code",
   "execution_count": 85,
   "metadata": {},
   "outputs": [
    {
     "name": "stdout",
     "output_type": "stream",
     "text": [
      "Counter({0: 77158, 1: 194})\n",
      "Accuracy: 0.9854819526321232 Recall: 0.13908313908313907 Precision: 0.9226804123711341\n"
     ]
    }
   ],
   "source": [
    "model = train(train_features, train_labels)"
   ]
  },
  {
   "cell_type": "markdown",
   "metadata": {},
   "source": [
    "**Let's see the feature importances**"
   ]
  },
  {
   "cell_type": "code",
   "execution_count": 86,
   "metadata": {},
   "outputs": [
    {
     "data": {
      "application/vnd.plotly.v1+json": {
       "config": {
        "plotlyServerURL": "https://plot.ly"
       },
       "data": [
        {
         "hovertemplate": "Stats=%{theta}<br>FI=%{r}<extra></extra>",
         "legendgroup": "diff_cl",
         "marker": {
          "color": "#f0f921",
          "pattern": {
           "shape": ""
          }
         },
         "name": "diff_cl",
         "r": [
          0.26816649273047205
         ],
         "showlegend": true,
         "subplot": "polar",
         "theta": [
          "diff_cl"
         ],
         "type": "barpolar"
        },
        {
         "hovertemplate": "Stats=%{theta}<br>FI=%{r}<extra></extra>",
         "legendgroup": "diff_bt",
         "marker": {
          "color": "#fdca26",
          "pattern": {
           "shape": ""
          }
         },
         "name": "diff_bt",
         "r": [
          0.23591886172271886
         ],
         "showlegend": true,
         "subplot": "polar",
         "theta": [
          "diff_bt"
         ],
         "type": "barpolar"
        },
        {
         "hovertemplate": "Stats=%{theta}<br>FI=%{r}<extra></extra>",
         "legendgroup": "source_page_rank",
         "marker": {
          "color": "#fb9f3a",
          "pattern": {
           "shape": ""
          }
         },
         "name": "source_page_rank",
         "r": [
          0.1724275951876422
         ],
         "showlegend": true,
         "subplot": "polar",
         "theta": [
          "source_page_rank"
         ],
         "type": "barpolar"
        },
        {
         "hovertemplate": "Stats=%{theta}<br>FI=%{r}<extra></extra>",
         "legendgroup": "distance",
         "marker": {
          "color": "#ed7953",
          "pattern": {
           "shape": ""
          }
         },
         "name": "distance",
         "r": [
          0.058462093125086545
         ],
         "showlegend": true,
         "subplot": "polar",
         "theta": [
          "distance"
         ],
         "type": "barpolar"
        },
        {
         "hovertemplate": "Stats=%{theta}<br>FI=%{r}<extra></extra>",
         "legendgroup": "source_degree_centrality",
         "marker": {
          "color": "#d8576b",
          "pattern": {
           "shape": ""
          }
         },
         "name": "source_degree_centrality",
         "r": [
          0.04282010673226129
         ],
         "showlegend": true,
         "subplot": "polar",
         "theta": [
          "source_degree_centrality"
         ],
         "type": "barpolar"
        },
        {
         "hovertemplate": "Stats=%{theta}<br>FI=%{r}<extra></extra>",
         "legendgroup": "pref_attach",
         "marker": {
          "color": "#bd3786",
          "pattern": {
           "shape": ""
          }
         },
         "name": "pref_attach",
         "r": [
          0.04270075983305947
         ],
         "showlegend": true,
         "subplot": "polar",
         "theta": [
          "pref_attach"
         ],
         "type": "barpolar"
        },
        {
         "hovertemplate": "Stats=%{theta}<br>FI=%{r}<extra></extra>",
         "legendgroup": "country_United States Minor Outlying Islands",
         "marker": {
          "color": "#9c179e",
          "pattern": {
           "shape": ""
          }
         },
         "name": "country_United States Minor Outlying Islands",
         "r": [
          0.038362009809323014
         ],
         "showlegend": true,
         "subplot": "polar",
         "theta": [
          "country_United States Minor Outlying Islands"
         ],
         "type": "barpolar"
        },
        {
         "hovertemplate": "Stats=%{theta}<br>FI=%{r}<extra></extra>",
         "legendgroup": "target_degree_centrality",
         "marker": {
          "color": "#7201a8",
          "pattern": {
           "shape": ""
          }
         },
         "name": "target_degree_centrality",
         "r": [
          0.021368539822309136
         ],
         "showlegend": true,
         "subplot": "polar",
         "theta": [
          "target_degree_centrality"
         ],
         "type": "barpolar"
        },
        {
         "hovertemplate": "Stats=%{theta}<br>FI=%{r}<extra></extra>",
         "legendgroup": "country_Mexico",
         "marker": {
          "color": "#46039f",
          "pattern": {
           "shape": ""
          }
         },
         "name": "country_Mexico",
         "r": [
          0.014044947470497662
         ],
         "showlegend": true,
         "subplot": "polar",
         "theta": [
          "country_Mexico"
         ],
         "type": "barpolar"
        },
        {
         "hovertemplate": "Stats=%{theta}<br>FI=%{r}<extra></extra>",
         "legendgroup": "country_Armenia",
         "marker": {
          "color": "#0d0887",
          "pattern": {
           "shape": ""
          }
         },
         "name": "country_Armenia",
         "r": [
          0.0133981119201066
         ],
         "showlegend": true,
         "subplot": "polar",
         "theta": [
          "country_Armenia"
         ],
         "type": "barpolar"
        },
        {
         "hovertemplate": "Stats=%{theta}<br>FI=%{r}<extra></extra>",
         "legendgroup": "country_Chile",
         "marker": {
          "color": "#f0f921",
          "pattern": {
           "shape": ""
          }
         },
         "name": "country_Chile",
         "r": [
          0.011403798163523042
         ],
         "showlegend": true,
         "subplot": "polar",
         "theta": [
          "country_Chile"
         ],
         "type": "barpolar"
        },
        {
         "hovertemplate": "Stats=%{theta}<br>FI=%{r}<extra></extra>",
         "legendgroup": "country_Venezuela",
         "marker": {
          "color": "#fdca26",
          "pattern": {
           "shape": ""
          }
         },
         "name": "country_Venezuela",
         "r": [
          0.009952339320927574
         ],
         "showlegend": true,
         "subplot": "polar",
         "theta": [
          "country_Venezuela"
         ],
         "type": "barpolar"
        },
        {
         "hovertemplate": "Stats=%{theta}<br>FI=%{r}<extra></extra>",
         "legendgroup": "gender_m",
         "marker": {
          "color": "#fb9f3a",
          "pattern": {
           "shape": ""
          }
         },
         "name": "gender_m",
         "r": [
          0.008297182076478183
         ],
         "showlegend": true,
         "subplot": "polar",
         "theta": [
          "gender_m"
         ],
         "type": "barpolar"
        },
        {
         "hovertemplate": "Stats=%{theta}<br>FI=%{r}<extra></extra>",
         "legendgroup": "country_Finland",
         "marker": {
          "color": "#ed7953",
          "pattern": {
           "shape": ""
          }
         },
         "name": "country_Finland",
         "r": [
          0.006481763514569339
         ],
         "showlegend": true,
         "subplot": "polar",
         "theta": [
          "country_Finland"
         ],
         "type": "barpolar"
        },
        {
         "hovertemplate": "Stats=%{theta}<br>FI=%{r}<extra></extra>",
         "legendgroup": "country_Turkey",
         "marker": {
          "color": "#d8576b",
          "pattern": {
           "shape": ""
          }
         },
         "name": "country_Turkey",
         "r": [
          0.006397991454223936
         ],
         "showlegend": true,
         "subplot": "polar",
         "theta": [
          "country_Turkey"
         ],
         "type": "barpolar"
        },
        {
         "hovertemplate": "Stats=%{theta}<br>FI=%{r}<extra></extra>",
         "legendgroup": "country_Czech Republic",
         "marker": {
          "color": "#bd3786",
          "pattern": {
           "shape": ""
          }
         },
         "name": "country_Czech Republic",
         "r": [
          0.00472458070506425
         ],
         "showlegend": true,
         "subplot": "polar",
         "theta": [
          "country_Czech Republic"
         ],
         "type": "barpolar"
        },
        {
         "hovertemplate": "Stats=%{theta}<br>FI=%{r}<extra></extra>",
         "legendgroup": "country_British Indian Ocean Territory",
         "marker": {
          "color": "#9c179e",
          "pattern": {
           "shape": ""
          }
         },
         "name": "country_British Indian Ocean Territory",
         "r": [
          0.004674114916912481
         ],
         "showlegend": true,
         "subplot": "polar",
         "theta": [
          "country_British Indian Ocean Territory"
         ],
         "type": "barpolar"
        },
        {
         "hovertemplate": "Stats=%{theta}<br>FI=%{r}<extra></extra>",
         "legendgroup": "gender_f",
         "marker": {
          "color": "#7201a8",
          "pattern": {
           "shape": ""
          }
         },
         "name": "gender_f",
         "r": [
          0.004015279289308634
         ],
         "showlegend": true,
         "subplot": "polar",
         "theta": [
          "gender_f"
         ],
         "type": "barpolar"
        },
        {
         "hovertemplate": "Stats=%{theta}<br>FI=%{r}<extra></extra>",
         "legendgroup": "country_Slovakia",
         "marker": {
          "color": "#46039f",
          "pattern": {
           "shape": ""
          }
         },
         "name": "country_Slovakia",
         "r": [
          0.0035606005057152654
         ],
         "showlegend": true,
         "subplot": "polar",
         "theta": [
          "country_Slovakia"
         ],
         "type": "barpolar"
        },
        {
         "hovertemplate": "Stats=%{theta}<br>FI=%{r}<extra></extra>",
         "legendgroup": "country_Portugal",
         "marker": {
          "color": "#0d0887",
          "pattern": {
           "shape": ""
          }
         },
         "name": "country_Portugal",
         "r": [
          0.0033756348776836803
         ],
         "showlegend": true,
         "subplot": "polar",
         "theta": [
          "country_Portugal"
         ],
         "type": "barpolar"
        },
        {
         "hovertemplate": "Stats=%{theta}<br>FI=%{r}<extra></extra>",
         "legendgroup": "country_United Kingdom",
         "marker": {
          "color": "#f0f921",
          "pattern": {
           "shape": ""
          }
         },
         "name": "country_United Kingdom",
         "r": [
          0.003219012066051428
         ],
         "showlegend": true,
         "subplot": "polar",
         "theta": [
          "country_United Kingdom"
         ],
         "type": "barpolar"
        },
        {
         "hovertemplate": "Stats=%{theta}<br>FI=%{r}<extra></extra>",
         "legendgroup": "country_Spain",
         "marker": {
          "color": "#fdca26",
          "pattern": {
           "shape": ""
          }
         },
         "name": "country_Spain",
         "r": [
          0.002792877954793323
         ],
         "showlegend": true,
         "subplot": "polar",
         "theta": [
          "country_Spain"
         ],
         "type": "barpolar"
        },
        {
         "hovertemplate": "Stats=%{theta}<br>FI=%{r}<extra></extra>",
         "legendgroup": "country_Russian Federation",
         "marker": {
          "color": "#fb9f3a",
          "pattern": {
           "shape": ""
          }
         },
         "name": "country_Russian Federation",
         "r": [
          0.002743960486103809
         ],
         "showlegend": true,
         "subplot": "polar",
         "theta": [
          "country_Russian Federation"
         ],
         "type": "barpolar"
        },
        {
         "hovertemplate": "Stats=%{theta}<br>FI=%{r}<extra></extra>",
         "legendgroup": "country_Romania",
         "marker": {
          "color": "#ed7953",
          "pattern": {
           "shape": ""
          }
         },
         "name": "country_Romania",
         "r": [
          0.0025931293365907596
         ],
         "showlegend": true,
         "subplot": "polar",
         "theta": [
          "country_Romania"
         ],
         "type": "barpolar"
        },
        {
         "hovertemplate": "Stats=%{theta}<br>FI=%{r}<extra></extra>",
         "legendgroup": "country_United States",
         "marker": {
          "color": "#d8576b",
          "pattern": {
           "shape": ""
          }
         },
         "name": "country_United States",
         "r": [
          0.002178277930497341
         ],
         "showlegend": true,
         "subplot": "polar",
         "theta": [
          "country_United States"
         ],
         "type": "barpolar"
        },
        {
         "hovertemplate": "Stats=%{theta}<br>FI=%{r}<extra></extra>",
         "legendgroup": "country_Ireland",
         "marker": {
          "color": "#bd3786",
          "pattern": {
           "shape": ""
          }
         },
         "name": "country_Ireland",
         "r": [
          0.0021330916265691344
         ],
         "showlegend": true,
         "subplot": "polar",
         "theta": [
          "country_Ireland"
         ],
         "type": "barpolar"
        },
        {
         "hovertemplate": "Stats=%{theta}<br>FI=%{r}<extra></extra>",
         "legendgroup": "country_Canada",
         "marker": {
          "color": "#9c179e",
          "pattern": {
           "shape": ""
          }
         },
         "name": "country_Canada",
         "r": [
          0.0021084921407632387
         ],
         "showlegend": true,
         "subplot": "polar",
         "theta": [
          "country_Canada"
         ],
         "type": "barpolar"
        },
        {
         "hovertemplate": "Stats=%{theta}<br>FI=%{r}<extra></extra>",
         "legendgroup": "country_Germany",
         "marker": {
          "color": "#7201a8",
          "pattern": {
           "shape": ""
          }
         },
         "name": "country_Germany",
         "r": [
          0.0018015848755651247
         ],
         "showlegend": true,
         "subplot": "polar",
         "theta": [
          "country_Germany"
         ],
         "type": "barpolar"
        },
        {
         "hovertemplate": "Stats=%{theta}<br>FI=%{r}<extra></extra>",
         "legendgroup": "country_Estonia",
         "marker": {
          "color": "#46039f",
          "pattern": {
           "shape": ""
          }
         },
         "name": "country_Estonia",
         "r": [
          0.0012248606532170151
         ],
         "showlegend": true,
         "subplot": "polar",
         "theta": [
          "country_Estonia"
         ],
         "type": "barpolar"
        },
        {
         "hovertemplate": "Stats=%{theta}<br>FI=%{r}<extra></extra>",
         "legendgroup": "country_Australia",
         "marker": {
          "color": "#0d0887",
          "pattern": {
           "shape": ""
          }
         },
         "name": "country_Australia",
         "r": [
          0.0009796961180686924
         ],
         "showlegend": true,
         "subplot": "polar",
         "theta": [
          "country_Australia"
         ],
         "type": "barpolar"
        },
        {
         "hovertemplate": "Stats=%{theta}<br>FI=%{r}<extra></extra>",
         "legendgroup": "country_Peru",
         "marker": {
          "color": "#f0f921",
          "pattern": {
           "shape": ""
          }
         },
         "name": "country_Peru",
         "r": [
          0.0009683421174470551
         ],
         "showlegend": true,
         "subplot": "polar",
         "theta": [
          "country_Peru"
         ],
         "type": "barpolar"
        },
        {
         "hovertemplate": "Stats=%{theta}<br>FI=%{r}<extra></extra>",
         "legendgroup": "country_Switzerland",
         "marker": {
          "color": "#fdca26",
          "pattern": {
           "shape": ""
          }
         },
         "name": "country_Switzerland",
         "r": [
          0.0009343619501901085
         ],
         "showlegend": true,
         "subplot": "polar",
         "theta": [
          "country_Switzerland"
         ],
         "type": "barpolar"
        },
        {
         "hovertemplate": "Stats=%{theta}<br>FI=%{r}<extra></extra>",
         "legendgroup": "country_Poland",
         "marker": {
          "color": "#fb9f3a",
          "pattern": {
           "shape": ""
          }
         },
         "name": "country_Poland",
         "r": [
          0.0008288280926616688
         ],
         "showlegend": true,
         "subplot": "polar",
         "theta": [
          "country_Poland"
         ],
         "type": "barpolar"
        },
        {
         "hovertemplate": "Stats=%{theta}<br>FI=%{r}<extra></extra>",
         "legendgroup": "country_Italy",
         "marker": {
          "color": "#ed7953",
          "pattern": {
           "shape": ""
          }
         },
         "name": "country_Italy",
         "r": [
          0.0007814880372027566
         ],
         "showlegend": true,
         "subplot": "polar",
         "theta": [
          "country_Italy"
         ],
         "type": "barpolar"
        },
        {
         "hovertemplate": "Stats=%{theta}<br>FI=%{r}<extra></extra>",
         "legendgroup": "country_Argentina",
         "marker": {
          "color": "#d8576b",
          "pattern": {
           "shape": ""
          }
         },
         "name": "country_Argentina",
         "r": [
          0.0007491579388711266
         ],
         "showlegend": true,
         "subplot": "polar",
         "theta": [
          "country_Argentina"
         ],
         "type": "barpolar"
        },
        {
         "hovertemplate": "Stats=%{theta}<br>FI=%{r}<extra></extra>",
         "legendgroup": "country_Thailand",
         "marker": {
          "color": "#bd3786",
          "pattern": {
           "shape": ""
          }
         },
         "name": "country_Thailand",
         "r": [
          0.0007316984409861774
         ],
         "showlegend": true,
         "subplot": "polar",
         "theta": [
          "country_Thailand"
         ],
         "type": "barpolar"
        },
        {
         "hovertemplate": "Stats=%{theta}<br>FI=%{r}<extra></extra>",
         "legendgroup": "country_Brazil",
         "marker": {
          "color": "#9c179e",
          "pattern": {
           "shape": ""
          }
         },
         "name": "country_Brazil",
         "r": [
          0.0006277535565314355
         ],
         "showlegend": true,
         "subplot": "polar",
         "theta": [
          "country_Brazil"
         ],
         "type": "barpolar"
        },
        {
         "hovertemplate": "Stats=%{theta}<br>FI=%{r}<extra></extra>",
         "legendgroup": "country_New Zealand",
         "marker": {
          "color": "#7201a8",
          "pattern": {
           "shape": ""
          }
         },
         "name": "country_New Zealand",
         "r": [
          0.00042651518260859657
         ],
         "showlegend": true,
         "subplot": "polar",
         "theta": [
          "country_New Zealand"
         ],
         "type": "barpolar"
        },
        {
         "hovertemplate": "Stats=%{theta}<br>FI=%{r}<extra></extra>",
         "legendgroup": "country_Norway",
         "marker": {
          "color": "#46039f",
          "pattern": {
           "shape": ""
          }
         },
         "name": "country_Norway",
         "r": [
          0.00033888127427665165
         ],
         "showlegend": true,
         "subplot": "polar",
         "theta": [
          "country_Norway"
         ],
         "type": "barpolar"
        },
        {
         "hovertemplate": "Stats=%{theta}<br>FI=%{r}<extra></extra>",
         "legendgroup": "country_Antarctica",
         "marker": {
          "color": "#0d0887",
          "pattern": {
           "shape": ""
          }
         },
         "name": "country_Antarctica",
         "r": [
          0.00031570441564569086
         ],
         "showlegend": true,
         "subplot": "polar",
         "theta": [
          "country_Antarctica"
         ],
         "type": "barpolar"
        },
        {
         "hovertemplate": "Stats=%{theta}<br>FI=%{r}<extra></extra>",
         "legendgroup": "country_Sweden",
         "marker": {
          "color": "#f0f921",
          "pattern": {
           "shape": ""
          }
         },
         "name": "country_Sweden",
         "r": [
          0.0002982272773660676
         ],
         "showlegend": true,
         "subplot": "polar",
         "theta": [
          "country_Sweden"
         ],
         "type": "barpolar"
        },
        {
         "hovertemplate": "Stats=%{theta}<br>FI=%{r}<extra></extra>",
         "legendgroup": "country_Belgium",
         "marker": {
          "color": "#fdca26",
          "pattern": {
           "shape": ""
          }
         },
         "name": "country_Belgium",
         "r": [
          0.00019001791460406363
         ],
         "showlegend": true,
         "subplot": "polar",
         "theta": [
          "country_Belgium"
         ],
         "type": "barpolar"
        },
        {
         "hovertemplate": "Stats=%{theta}<br>FI=%{r}<extra></extra>",
         "legendgroup": "country_Bulgaria",
         "marker": {
          "color": "#fb9f3a",
          "pattern": {
           "shape": ""
          }
         },
         "name": "country_Bulgaria",
         "r": [
          0.00016560397767339182
         ],
         "showlegend": true,
         "subplot": "polar",
         "theta": [
          "country_Bulgaria"
         ],
         "type": "barpolar"
        },
        {
         "hovertemplate": "Stats=%{theta}<br>FI=%{r}<extra></extra>",
         "legendgroup": "country_Serbia",
         "marker": {
          "color": "#ed7953",
          "pattern": {
           "shape": ""
          }
         },
         "name": "country_Serbia",
         "r": [
          0.00014082977168688925
         ],
         "showlegend": true,
         "subplot": "polar",
         "theta": [
          "country_Serbia"
         ],
         "type": "barpolar"
        },
        {
         "hovertemplate": "Stats=%{theta}<br>FI=%{r}<extra></extra>",
         "legendgroup": "country_Japan",
         "marker": {
          "color": "#d8576b",
          "pattern": {
           "shape": ""
          }
         },
         "name": "country_Japan",
         "r": [
          0.00008711468947747223
         ],
         "showlegend": true,
         "subplot": "polar",
         "theta": [
          "country_Japan"
         ],
         "type": "barpolar"
        },
        {
         "hovertemplate": "Stats=%{theta}<br>FI=%{r}<extra></extra>",
         "legendgroup": "country_Trinidad and Tobago",
         "marker": {
          "color": "#bd3786",
          "pattern": {
           "shape": ""
          }
         },
         "name": "country_Trinidad and Tobago",
         "r": [
          0.000055301025550881924
         ],
         "showlegend": true,
         "subplot": "polar",
         "theta": [
          "country_Trinidad and Tobago"
         ],
         "type": "barpolar"
        },
        {
         "hovertemplate": "Stats=%{theta}<br>FI=%{r}<extra></extra>",
         "legendgroup": "country_Cote D'Ivoire",
         "marker": {
          "color": "#9c179e",
          "pattern": {
           "shape": ""
          }
         },
         "name": "country_Cote D'Ivoire",
         "r": [
          0.00003238797111664797
         ],
         "showlegend": true,
         "subplot": "polar",
         "theta": [
          "country_Cote D'Ivoire"
         ],
         "type": "barpolar"
        },
        {
         "hovertemplate": "Stats=%{theta}<br>FI=%{r}<extra></extra>",
         "legendgroup": "country_Morocco",
         "marker": {
          "color": "#7201a8",
          "pattern": {
           "shape": ""
          }
         },
         "name": "country_Morocco",
         "r": [
          0
         ],
         "showlegend": true,
         "subplot": "polar",
         "theta": [
          "country_Morocco"
         ],
         "type": "barpolar"
        },
        {
         "hovertemplate": "Stats=%{theta}<br>FI=%{r}<extra></extra>",
         "legendgroup": "country_Netherlands",
         "marker": {
          "color": "#46039f",
          "pattern": {
           "shape": ""
          }
         },
         "name": "country_Netherlands",
         "r": [
          0
         ],
         "showlegend": true,
         "subplot": "polar",
         "theta": [
          "country_Netherlands"
         ],
         "type": "barpolar"
        },
        {
         "hovertemplate": "Stats=%{theta}<br>FI=%{r}<extra></extra>",
         "legendgroup": "country_Algeria",
         "marker": {
          "color": "#0d0887",
          "pattern": {
           "shape": ""
          }
         },
         "name": "country_Algeria",
         "r": [
          0
         ],
         "showlegend": true,
         "subplot": "polar",
         "theta": [
          "country_Algeria"
         ],
         "type": "barpolar"
        },
        {
         "hovertemplate": "Stats=%{theta}<br>FI=%{r}<extra></extra>",
         "legendgroup": "country_Congo, the Democratic Republic of the",
         "marker": {
          "color": "#f0f921",
          "pattern": {
           "shape": ""
          }
         },
         "name": "country_Congo, the Democratic Republic of the",
         "r": [
          0
         ],
         "showlegend": true,
         "subplot": "polar",
         "theta": [
          "country_Congo, the Democratic Republic of the"
         ],
         "type": "barpolar"
        },
        {
         "hovertemplate": "Stats=%{theta}<br>FI=%{r}<extra></extra>",
         "legendgroup": "country_Colombia",
         "marker": {
          "color": "#fdca26",
          "pattern": {
           "shape": ""
          }
         },
         "name": "country_Colombia",
         "r": [
          0
         ],
         "showlegend": true,
         "subplot": "polar",
         "theta": [
          "country_Colombia"
         ],
         "type": "barpolar"
        },
        {
         "hovertemplate": "Stats=%{theta}<br>FI=%{r}<extra></extra>",
         "legendgroup": "country_France",
         "marker": {
          "color": "#fb9f3a",
          "pattern": {
           "shape": ""
          }
         },
         "name": "country_France",
         "r": [
          0
         ],
         "showlegend": true,
         "subplot": "polar",
         "theta": [
          "country_France"
         ],
         "type": "barpolar"
        },
        {
         "hovertemplate": "Stats=%{theta}<br>FI=%{r}<extra></extra>",
         "legendgroup": "country_Austria",
         "marker": {
          "color": "#ed7953",
          "pattern": {
           "shape": ""
          }
         },
         "name": "country_Austria",
         "r": [
          0
         ],
         "showlegend": true,
         "subplot": "polar",
         "theta": [
          "country_Austria"
         ],
         "type": "barpolar"
        },
        {
         "hovertemplate": "Stats=%{theta}<br>FI=%{r}<extra></extra>",
         "legendgroup": "country_Tunisia",
         "marker": {
          "color": "#d8576b",
          "pattern": {
           "shape": ""
          }
         },
         "name": "country_Tunisia",
         "r": [
          0
         ],
         "showlegend": true,
         "subplot": "polar",
         "theta": [
          "country_Tunisia"
         ],
         "type": "barpolar"
        },
        {
         "hovertemplate": "Stats=%{theta}<br>FI=%{r}<extra></extra>",
         "legendgroup": "country_Greece",
         "marker": {
          "color": "#bd3786",
          "pattern": {
           "shape": ""
          }
         },
         "name": "country_Greece",
         "r": [
          0
         ],
         "showlegend": true,
         "subplot": "polar",
         "theta": [
          "country_Greece"
         ],
         "type": "barpolar"
        },
        {
         "hovertemplate": "Stats=%{theta}<br>FI=%{r}<extra></extra>",
         "legendgroup": "country_Hungary",
         "marker": {
          "color": "#9c179e",
          "pattern": {
           "shape": ""
          }
         },
         "name": "country_Hungary",
         "r": [
          0
         ],
         "showlegend": true,
         "subplot": "polar",
         "theta": [
          "country_Hungary"
         ],
         "type": "barpolar"
        },
        {
         "hovertemplate": "Stats=%{theta}<br>FI=%{r}<extra></extra>",
         "legendgroup": "country_Iceland",
         "marker": {
          "color": "#7201a8",
          "pattern": {
           "shape": ""
          }
         },
         "name": "country_Iceland",
         "r": [
          0
         ],
         "showlegend": true,
         "subplot": "polar",
         "theta": [
          "country_Iceland"
         ],
         "type": "barpolar"
        },
        {
         "hovertemplate": "Stats=%{theta}<br>FI=%{r}<extra></extra>",
         "legendgroup": "country_India",
         "marker": {
          "color": "#46039f",
          "pattern": {
           "shape": ""
          }
         },
         "name": "country_India",
         "r": [
          0
         ],
         "showlegend": true,
         "subplot": "polar",
         "theta": [
          "country_India"
         ],
         "type": "barpolar"
        },
        {
         "hovertemplate": "Stats=%{theta}<br>FI=%{r}<extra></extra>",
         "legendgroup": "country_Belarus",
         "marker": {
          "color": "#0d0887",
          "pattern": {
           "shape": ""
          }
         },
         "name": "country_Belarus",
         "r": [
          0
         ],
         "showlegend": true,
         "subplot": "polar",
         "theta": [
          "country_Belarus"
         ],
         "type": "barpolar"
        },
        {
         "hovertemplate": "Stats=%{theta}<br>FI=%{r}<extra></extra>",
         "legendgroup": "country_Slovenia",
         "marker": {
          "color": "#f0f921",
          "pattern": {
           "shape": ""
          }
         },
         "name": "country_Slovenia",
         "r": [
          0
         ],
         "showlegend": true,
         "subplot": "polar",
         "theta": [
          "country_Slovenia"
         ],
         "type": "barpolar"
        },
        {
         "hovertemplate": "Stats=%{theta}<br>FI=%{r}<extra></extra>",
         "legendgroup": "country_China",
         "marker": {
          "color": "#fdca26",
          "pattern": {
           "shape": ""
          }
         },
         "name": "country_China",
         "r": [
          0
         ],
         "showlegend": true,
         "subplot": "polar",
         "theta": [
          "country_China"
         ],
         "type": "barpolar"
        },
        {
         "hovertemplate": "Stats=%{theta}<br>FI=%{r}<extra></extra>",
         "legendgroup": "country_Singapore",
         "marker": {
          "color": "#fb9f3a",
          "pattern": {
           "shape": ""
          }
         },
         "name": "country_Singapore",
         "r": [
          0
         ],
         "showlegend": true,
         "subplot": "polar",
         "theta": [
          "country_Singapore"
         ],
         "type": "barpolar"
        },
        {
         "hovertemplate": "Stats=%{theta}<br>FI=%{r}<extra></extra>",
         "legendgroup": "country_Israel",
         "marker": {
          "color": "#ed7953",
          "pattern": {
           "shape": ""
          }
         },
         "name": "country_Israel",
         "r": [
          0
         ],
         "showlegend": true,
         "subplot": "polar",
         "theta": [
          "country_Israel"
         ],
         "type": "barpolar"
        },
        {
         "hovertemplate": "Stats=%{theta}<br>FI=%{r}<extra></extra>",
         "legendgroup": "country_Bosnia and Herzegovina",
         "marker": {
          "color": "#d8576b",
          "pattern": {
           "shape": ""
          }
         },
         "name": "country_Bosnia and Herzegovina",
         "r": [
          0
         ],
         "showlegend": true,
         "subplot": "polar",
         "theta": [
          "country_Bosnia and Herzegovina"
         ],
         "type": "barpolar"
        },
        {
         "hovertemplate": "Stats=%{theta}<br>FI=%{r}<extra></extra>",
         "legendgroup": "country_Korea, Democratic People's Republic of",
         "marker": {
          "color": "#bd3786",
          "pattern": {
           "shape": ""
          }
         },
         "name": "country_Korea, Democratic People's Republic of",
         "r": [
          0
         ],
         "showlegend": true,
         "subplot": "polar",
         "theta": [
          "country_Korea, Democratic People's Republic of"
         ],
         "type": "barpolar"
        },
        {
         "hovertemplate": "Stats=%{theta}<br>FI=%{r}<extra></extra>",
         "legendgroup": "country_Latvia",
         "marker": {
          "color": "#9c179e",
          "pattern": {
           "shape": ""
          }
         },
         "name": "country_Latvia",
         "r": [
          0
         ],
         "showlegend": true,
         "subplot": "polar",
         "theta": [
          "country_Latvia"
         ],
         "type": "barpolar"
        },
        {
         "hovertemplate": "Stats=%{theta}<br>FI=%{r}<extra></extra>",
         "legendgroup": "country_Lithuania",
         "marker": {
          "color": "#7201a8",
          "pattern": {
           "shape": ""
          }
         },
         "name": "country_Lithuania",
         "r": [
          0
         ],
         "showlegend": true,
         "subplot": "polar",
         "theta": [
          "country_Lithuania"
         ],
         "type": "barpolar"
        },
        {
         "hovertemplate": "Stats=%{theta}<br>FI=%{r}<extra></extra>",
         "legendgroup": "country_Macedonia",
         "marker": {
          "color": "#46039f",
          "pattern": {
           "shape": ""
          }
         },
         "name": "country_Macedonia",
         "r": [
          0
         ],
         "showlegend": true,
         "subplot": "polar",
         "theta": [
          "country_Macedonia"
         ],
         "type": "barpolar"
        },
        {
         "hovertemplate": "Stats=%{theta}<br>FI=%{r}<extra></extra>",
         "legendgroup": "country_Malta",
         "marker": {
          "color": "#0d0887",
          "pattern": {
           "shape": ""
          }
         },
         "name": "country_Malta",
         "r": [
          0
         ],
         "showlegend": true,
         "subplot": "polar",
         "theta": [
          "country_Malta"
         ],
         "type": "barpolar"
        },
        {
         "hovertemplate": "Stats=%{theta}<br>FI=%{r}<extra></extra>",
         "legendgroup": "country_Northern Mariana Islands",
         "marker": {
          "color": "#f0f921",
          "pattern": {
           "shape": ""
          }
         },
         "name": "country_Northern Mariana Islands",
         "r": [
          0
         ],
         "showlegend": true,
         "subplot": "polar",
         "theta": [
          "country_Northern Mariana Islands"
         ],
         "type": "barpolar"
        },
        {
         "hovertemplate": "Stats=%{theta}<br>FI=%{r}<extra></extra>",
         "legendgroup": "country_Nicaragua",
         "marker": {
          "color": "#fdca26",
          "pattern": {
           "shape": ""
          }
         },
         "name": "country_Nicaragua",
         "r": [
          0
         ],
         "showlegend": true,
         "subplot": "polar",
         "theta": [
          "country_Nicaragua"
         ],
         "type": "barpolar"
        },
        {
         "hovertemplate": "Stats=%{theta}<br>FI=%{r}<extra></extra>",
         "legendgroup": "country_Croatia",
         "marker": {
          "color": "#fb9f3a",
          "pattern": {
           "shape": ""
          }
         },
         "name": "country_Croatia",
         "r": [
          0
         ],
         "showlegend": true,
         "subplot": "polar",
         "theta": [
          "country_Croatia"
         ],
         "type": "barpolar"
        },
        {
         "hovertemplate": "Stats=%{theta}<br>FI=%{r}<extra></extra>",
         "legendgroup": "country_Netherlands Antilles",
         "marker": {
          "color": "#ed7953",
          "pattern": {
           "shape": ""
          }
         },
         "name": "country_Netherlands Antilles",
         "r": [
          0
         ],
         "showlegend": true,
         "subplot": "polar",
         "theta": [
          "country_Netherlands Antilles"
         ],
         "type": "barpolar"
        },
        {
         "hovertemplate": "Stats=%{theta}<br>FI=%{r}<extra></extra>",
         "legendgroup": "country_Zimbabwe",
         "marker": {
          "color": "#d8576b",
          "pattern": {
           "shape": ""
          }
         },
         "name": "country_Zimbabwe",
         "r": [
          0
         ],
         "showlegend": true,
         "subplot": "polar",
         "theta": [
          "country_Zimbabwe"
         ],
         "type": "barpolar"
        }
       ],
       "layout": {
        "barmode": "relative",
        "legend": {
         "title": {
          "text": "Stats"
         },
         "tracegroupgap": 0
        },
        "margin": {
         "t": 60
        },
        "polar": {
         "angularaxis": {
          "categoryarray": [
           "diff_cl",
           "diff_bt",
           "source_page_rank",
           "distance",
           "source_degree_centrality",
           "pref_attach",
           "country_United States Minor Outlying Islands",
           "target_degree_centrality",
           "country_Mexico",
           "country_Armenia",
           "country_Chile",
           "country_Venezuela",
           "gender_m",
           "country_Finland",
           "country_Turkey",
           "country_Czech Republic",
           "country_British Indian Ocean Territory",
           "gender_f",
           "country_Slovakia",
           "country_Portugal",
           "country_United Kingdom",
           "country_Spain",
           "country_Russian Federation",
           "country_Romania",
           "country_United States",
           "country_Ireland",
           "country_Canada",
           "country_Germany",
           "country_Estonia",
           "country_Australia",
           "country_Peru",
           "country_Switzerland",
           "country_Poland",
           "country_Italy",
           "country_Argentina",
           "country_Thailand",
           "country_Brazil",
           "country_New Zealand",
           "country_Norway",
           "country_Antarctica",
           "country_Sweden",
           "country_Belgium",
           "country_Bulgaria",
           "country_Serbia",
           "country_Japan",
           "country_Trinidad and Tobago",
           "country_Cote D'Ivoire",
           "country_Morocco",
           "country_Netherlands",
           "country_Algeria",
           "country_Congo, the Democratic Republic of the",
           "country_Colombia",
           "country_France",
           "country_Austria",
           "country_Tunisia",
           "country_Greece",
           "country_Hungary",
           "country_Iceland",
           "country_India",
           "country_Belarus",
           "country_Slovenia",
           "country_China",
           "country_Singapore",
           "country_Israel",
           "country_Bosnia and Herzegovina",
           "country_Korea, Democratic People's Republic of",
           "country_Latvia",
           "country_Lithuania",
           "country_Macedonia",
           "country_Malta",
           "country_Northern Mariana Islands",
           "country_Nicaragua",
           "country_Croatia",
           "country_Netherlands Antilles",
           "country_Zimbabwe"
          ],
          "categoryorder": "array",
          "direction": "clockwise",
          "rotation": 90
         },
         "domain": {
          "x": [
           0,
           1
          ],
          "y": [
           0,
           1
          ]
         }
        },
        "template": {
         "data": {
          "bar": [
           {
            "error_x": {
             "color": "#2a3f5f"
            },
            "error_y": {
             "color": "#2a3f5f"
            },
            "marker": {
             "line": {
              "color": "white",
              "width": 0.5
             },
             "pattern": {
              "fillmode": "overlay",
              "size": 10,
              "solidity": 0.2
             }
            },
            "type": "bar"
           }
          ],
          "barpolar": [
           {
            "marker": {
             "line": {
              "color": "white",
              "width": 0.5
             },
             "pattern": {
              "fillmode": "overlay",
              "size": 10,
              "solidity": 0.2
             }
            },
            "type": "barpolar"
           }
          ],
          "carpet": [
           {
            "aaxis": {
             "endlinecolor": "#2a3f5f",
             "gridcolor": "#C8D4E3",
             "linecolor": "#C8D4E3",
             "minorgridcolor": "#C8D4E3",
             "startlinecolor": "#2a3f5f"
            },
            "baxis": {
             "endlinecolor": "#2a3f5f",
             "gridcolor": "#C8D4E3",
             "linecolor": "#C8D4E3",
             "minorgridcolor": "#C8D4E3",
             "startlinecolor": "#2a3f5f"
            },
            "type": "carpet"
           }
          ],
          "choropleth": [
           {
            "colorbar": {
             "outlinewidth": 0,
             "ticks": ""
            },
            "type": "choropleth"
           }
          ],
          "contour": [
           {
            "colorbar": {
             "outlinewidth": 0,
             "ticks": ""
            },
            "colorscale": [
             [
              0,
              "#0d0887"
             ],
             [
              0.1111111111111111,
              "#46039f"
             ],
             [
              0.2222222222222222,
              "#7201a8"
             ],
             [
              0.3333333333333333,
              "#9c179e"
             ],
             [
              0.4444444444444444,
              "#bd3786"
             ],
             [
              0.5555555555555556,
              "#d8576b"
             ],
             [
              0.6666666666666666,
              "#ed7953"
             ],
             [
              0.7777777777777778,
              "#fb9f3a"
             ],
             [
              0.8888888888888888,
              "#fdca26"
             ],
             [
              1,
              "#f0f921"
             ]
            ],
            "type": "contour"
           }
          ],
          "contourcarpet": [
           {
            "colorbar": {
             "outlinewidth": 0,
             "ticks": ""
            },
            "type": "contourcarpet"
           }
          ],
          "heatmap": [
           {
            "colorbar": {
             "outlinewidth": 0,
             "ticks": ""
            },
            "colorscale": [
             [
              0,
              "#0d0887"
             ],
             [
              0.1111111111111111,
              "#46039f"
             ],
             [
              0.2222222222222222,
              "#7201a8"
             ],
             [
              0.3333333333333333,
              "#9c179e"
             ],
             [
              0.4444444444444444,
              "#bd3786"
             ],
             [
              0.5555555555555556,
              "#d8576b"
             ],
             [
              0.6666666666666666,
              "#ed7953"
             ],
             [
              0.7777777777777778,
              "#fb9f3a"
             ],
             [
              0.8888888888888888,
              "#fdca26"
             ],
             [
              1,
              "#f0f921"
             ]
            ],
            "type": "heatmap"
           }
          ],
          "heatmapgl": [
           {
            "colorbar": {
             "outlinewidth": 0,
             "ticks": ""
            },
            "colorscale": [
             [
              0,
              "#0d0887"
             ],
             [
              0.1111111111111111,
              "#46039f"
             ],
             [
              0.2222222222222222,
              "#7201a8"
             ],
             [
              0.3333333333333333,
              "#9c179e"
             ],
             [
              0.4444444444444444,
              "#bd3786"
             ],
             [
              0.5555555555555556,
              "#d8576b"
             ],
             [
              0.6666666666666666,
              "#ed7953"
             ],
             [
              0.7777777777777778,
              "#fb9f3a"
             ],
             [
              0.8888888888888888,
              "#fdca26"
             ],
             [
              1,
              "#f0f921"
             ]
            ],
            "type": "heatmapgl"
           }
          ],
          "histogram": [
           {
            "marker": {
             "pattern": {
              "fillmode": "overlay",
              "size": 10,
              "solidity": 0.2
             }
            },
            "type": "histogram"
           }
          ],
          "histogram2d": [
           {
            "colorbar": {
             "outlinewidth": 0,
             "ticks": ""
            },
            "colorscale": [
             [
              0,
              "#0d0887"
             ],
             [
              0.1111111111111111,
              "#46039f"
             ],
             [
              0.2222222222222222,
              "#7201a8"
             ],
             [
              0.3333333333333333,
              "#9c179e"
             ],
             [
              0.4444444444444444,
              "#bd3786"
             ],
             [
              0.5555555555555556,
              "#d8576b"
             ],
             [
              0.6666666666666666,
              "#ed7953"
             ],
             [
              0.7777777777777778,
              "#fb9f3a"
             ],
             [
              0.8888888888888888,
              "#fdca26"
             ],
             [
              1,
              "#f0f921"
             ]
            ],
            "type": "histogram2d"
           }
          ],
          "histogram2dcontour": [
           {
            "colorbar": {
             "outlinewidth": 0,
             "ticks": ""
            },
            "colorscale": [
             [
              0,
              "#0d0887"
             ],
             [
              0.1111111111111111,
              "#46039f"
             ],
             [
              0.2222222222222222,
              "#7201a8"
             ],
             [
              0.3333333333333333,
              "#9c179e"
             ],
             [
              0.4444444444444444,
              "#bd3786"
             ],
             [
              0.5555555555555556,
              "#d8576b"
             ],
             [
              0.6666666666666666,
              "#ed7953"
             ],
             [
              0.7777777777777778,
              "#fb9f3a"
             ],
             [
              0.8888888888888888,
              "#fdca26"
             ],
             [
              1,
              "#f0f921"
             ]
            ],
            "type": "histogram2dcontour"
           }
          ],
          "mesh3d": [
           {
            "colorbar": {
             "outlinewidth": 0,
             "ticks": ""
            },
            "type": "mesh3d"
           }
          ],
          "parcoords": [
           {
            "line": {
             "colorbar": {
              "outlinewidth": 0,
              "ticks": ""
             }
            },
            "type": "parcoords"
           }
          ],
          "pie": [
           {
            "automargin": true,
            "type": "pie"
           }
          ],
          "scatter": [
           {
            "marker": {
             "colorbar": {
              "outlinewidth": 0,
              "ticks": ""
             }
            },
            "type": "scatter"
           }
          ],
          "scatter3d": [
           {
            "line": {
             "colorbar": {
              "outlinewidth": 0,
              "ticks": ""
             }
            },
            "marker": {
             "colorbar": {
              "outlinewidth": 0,
              "ticks": ""
             }
            },
            "type": "scatter3d"
           }
          ],
          "scattercarpet": [
           {
            "marker": {
             "colorbar": {
              "outlinewidth": 0,
              "ticks": ""
             }
            },
            "type": "scattercarpet"
           }
          ],
          "scattergeo": [
           {
            "marker": {
             "colorbar": {
              "outlinewidth": 0,
              "ticks": ""
             }
            },
            "type": "scattergeo"
           }
          ],
          "scattergl": [
           {
            "marker": {
             "colorbar": {
              "outlinewidth": 0,
              "ticks": ""
             }
            },
            "type": "scattergl"
           }
          ],
          "scattermapbox": [
           {
            "marker": {
             "colorbar": {
              "outlinewidth": 0,
              "ticks": ""
             }
            },
            "type": "scattermapbox"
           }
          ],
          "scatterpolar": [
           {
            "marker": {
             "colorbar": {
              "outlinewidth": 0,
              "ticks": ""
             }
            },
            "type": "scatterpolar"
           }
          ],
          "scatterpolargl": [
           {
            "marker": {
             "colorbar": {
              "outlinewidth": 0,
              "ticks": ""
             }
            },
            "type": "scatterpolargl"
           }
          ],
          "scatterternary": [
           {
            "marker": {
             "colorbar": {
              "outlinewidth": 0,
              "ticks": ""
             }
            },
            "type": "scatterternary"
           }
          ],
          "surface": [
           {
            "colorbar": {
             "outlinewidth": 0,
             "ticks": ""
            },
            "colorscale": [
             [
              0,
              "#0d0887"
             ],
             [
              0.1111111111111111,
              "#46039f"
             ],
             [
              0.2222222222222222,
              "#7201a8"
             ],
             [
              0.3333333333333333,
              "#9c179e"
             ],
             [
              0.4444444444444444,
              "#bd3786"
             ],
             [
              0.5555555555555556,
              "#d8576b"
             ],
             [
              0.6666666666666666,
              "#ed7953"
             ],
             [
              0.7777777777777778,
              "#fb9f3a"
             ],
             [
              0.8888888888888888,
              "#fdca26"
             ],
             [
              1,
              "#f0f921"
             ]
            ],
            "type": "surface"
           }
          ],
          "table": [
           {
            "cells": {
             "fill": {
              "color": "#EBF0F8"
             },
             "line": {
              "color": "white"
             }
            },
            "header": {
             "fill": {
              "color": "#C8D4E3"
             },
             "line": {
              "color": "white"
             }
            },
            "type": "table"
           }
          ]
         },
         "layout": {
          "annotationdefaults": {
           "arrowcolor": "#2a3f5f",
           "arrowhead": 0,
           "arrowwidth": 1
          },
          "autotypenumbers": "strict",
          "coloraxis": {
           "colorbar": {
            "outlinewidth": 0,
            "ticks": ""
           }
          },
          "colorscale": {
           "diverging": [
            [
             0,
             "#8e0152"
            ],
            [
             0.1,
             "#c51b7d"
            ],
            [
             0.2,
             "#de77ae"
            ],
            [
             0.3,
             "#f1b6da"
            ],
            [
             0.4,
             "#fde0ef"
            ],
            [
             0.5,
             "#f7f7f7"
            ],
            [
             0.6,
             "#e6f5d0"
            ],
            [
             0.7,
             "#b8e186"
            ],
            [
             0.8,
             "#7fbc41"
            ],
            [
             0.9,
             "#4d9221"
            ],
            [
             1,
             "#276419"
            ]
           ],
           "sequential": [
            [
             0,
             "#0d0887"
            ],
            [
             0.1111111111111111,
             "#46039f"
            ],
            [
             0.2222222222222222,
             "#7201a8"
            ],
            [
             0.3333333333333333,
             "#9c179e"
            ],
            [
             0.4444444444444444,
             "#bd3786"
            ],
            [
             0.5555555555555556,
             "#d8576b"
            ],
            [
             0.6666666666666666,
             "#ed7953"
            ],
            [
             0.7777777777777778,
             "#fb9f3a"
            ],
            [
             0.8888888888888888,
             "#fdca26"
            ],
            [
             1,
             "#f0f921"
            ]
           ],
           "sequentialminus": [
            [
             0,
             "#0d0887"
            ],
            [
             0.1111111111111111,
             "#46039f"
            ],
            [
             0.2222222222222222,
             "#7201a8"
            ],
            [
             0.3333333333333333,
             "#9c179e"
            ],
            [
             0.4444444444444444,
             "#bd3786"
            ],
            [
             0.5555555555555556,
             "#d8576b"
            ],
            [
             0.6666666666666666,
             "#ed7953"
            ],
            [
             0.7777777777777778,
             "#fb9f3a"
            ],
            [
             0.8888888888888888,
             "#fdca26"
            ],
            [
             1,
             "#f0f921"
            ]
           ]
          },
          "colorway": [
           "#636efa",
           "#EF553B",
           "#00cc96",
           "#ab63fa",
           "#FFA15A",
           "#19d3f3",
           "#FF6692",
           "#B6E880",
           "#FF97FF",
           "#FECB52"
          ],
          "font": {
           "color": "#2a3f5f"
          },
          "geo": {
           "bgcolor": "white",
           "lakecolor": "white",
           "landcolor": "white",
           "showlakes": true,
           "showland": true,
           "subunitcolor": "#C8D4E3"
          },
          "hoverlabel": {
           "align": "left"
          },
          "hovermode": "closest",
          "mapbox": {
           "style": "light"
          },
          "paper_bgcolor": "white",
          "plot_bgcolor": "white",
          "polar": {
           "angularaxis": {
            "gridcolor": "#EBF0F8",
            "linecolor": "#EBF0F8",
            "ticks": ""
           },
           "bgcolor": "white",
           "radialaxis": {
            "gridcolor": "#EBF0F8",
            "linecolor": "#EBF0F8",
            "ticks": ""
           }
          },
          "scene": {
           "xaxis": {
            "backgroundcolor": "white",
            "gridcolor": "#DFE8F3",
            "gridwidth": 2,
            "linecolor": "#EBF0F8",
            "showbackground": true,
            "ticks": "",
            "zerolinecolor": "#EBF0F8"
           },
           "yaxis": {
            "backgroundcolor": "white",
            "gridcolor": "#DFE8F3",
            "gridwidth": 2,
            "linecolor": "#EBF0F8",
            "showbackground": true,
            "ticks": "",
            "zerolinecolor": "#EBF0F8"
           },
           "zaxis": {
            "backgroundcolor": "white",
            "gridcolor": "#DFE8F3",
            "gridwidth": 2,
            "linecolor": "#EBF0F8",
            "showbackground": true,
            "ticks": "",
            "zerolinecolor": "#EBF0F8"
           }
          },
          "shapedefaults": {
           "line": {
            "color": "#2a3f5f"
           }
          },
          "ternary": {
           "aaxis": {
            "gridcolor": "#DFE8F3",
            "linecolor": "#A2B1C6",
            "ticks": ""
           },
           "baxis": {
            "gridcolor": "#DFE8F3",
            "linecolor": "#A2B1C6",
            "ticks": ""
           },
           "bgcolor": "white",
           "caxis": {
            "gridcolor": "#DFE8F3",
            "linecolor": "#A2B1C6",
            "ticks": ""
           }
          },
          "title": {
           "x": 0.05
          },
          "xaxis": {
           "automargin": true,
           "gridcolor": "#EBF0F8",
           "linecolor": "#EBF0F8",
           "ticks": "",
           "title": {
            "standoff": 15
           },
           "zerolinecolor": "#EBF0F8",
           "zerolinewidth": 2
          },
          "yaxis": {
           "automargin": true,
           "gridcolor": "#EBF0F8",
           "linecolor": "#EBF0F8",
           "ticks": "",
           "title": {
            "standoff": 15
           },
           "zerolinecolor": "#EBF0F8",
           "zerolinewidth": 2
          }
         }
        }
       }
      }
     },
     "metadata": {},
     "output_type": "display_data"
    }
   ],
   "source": [
    "import plotly.express as px\n",
    "feature_importance = model.feature_importances_\n",
    "columns_name=['source_degree_centrality', 'target_degree_centrality', 'diff_bt', 'pref_attach', 'source_page_rank', 'diff_cl', 'distance'] + user_id_profile.columns.values.tolist()\n",
    "df = pd.DataFrame({'Stats':columns_name,'FI':feature_importance})\n",
    "df = df.sort_values(by='FI', ascending=0)       \n",
    "fig = px.bar_polar(df, r=\"FI\", theta=\"Stats\",\n",
    "                   color=\"Stats\", template=\"plotly_white\",\n",
    "                   color_discrete_sequence= px.colors.sequential.Plasma_r) \n",
    "fig.show()                 "
   ]
  },
  {
   "cell_type": "markdown",
   "metadata": {},
   "source": [
    "### We test the model on the test set"
   ]
  },
  {
   "cell_type": "code",
   "execution_count": 87,
   "metadata": {},
   "outputs": [],
   "source": [
    "def top_N_experiment(features,edges, N, clf):\n",
    "    \"\"\"\n",
    "    Compute the top N edges in the graph G using the classifier clf\n",
    "    \"\"\"\n",
    "    # --- Predict the labels of the edges ---\n",
    "    preds = clf.predict_proba(features)\n",
    "\n",
    "    # --- Get the top N edges ---\n",
    "    top_N_edges = []\n",
    "    for i in range(N):\n",
    "        top_N_edges.append(edges[np.argmax(preds[:,1])])\n",
    "        preds[np.argmax(preds[:,1])] = -1\n",
    "\n",
    "    return top_N_edges"
   ]
  },
  {
   "cell_type": "code",
   "execution_count": 88,
   "metadata": {},
   "outputs": [],
   "source": [
    "def results_top_N_experiment(N):\n",
    "    test_neg_edges = np.array(get_neg_edges_bipartite(G_test))\n",
    "    precisions = []\n",
    "    recalls = []\n",
    "    for user in tqdm(set(test_neg_edges[:,0])):\n",
    "        user_edges = test_neg_edges[test_neg_edges[:,0]==user]\n",
    "        user_labels = get_edges_values(G_test_gt, user_edges)\n",
    "        if user_labels.count(1) != 0:\n",
    "            user_features = feature_extractor(G_test, user_edges)\n",
    "            top_N_edges = top_N_experiment(user_features, user_edges, N, model)\n",
    "            top_N_edges = [list(edge) for edge in top_N_edges]\n",
    "            user_edges = [list(edge) for edge in user_edges]\n",
    "            '''print(top_N_edges)\n",
    "            print(user_edges)'''\n",
    "            #prediction = user_edges[user_edges in top_N_edges].astype(int)\n",
    "            prediction = []\n",
    "            for i in range(len(user_edges)):\n",
    "                if user_edges[i] in top_N_edges:\n",
    "                    prediction.append(1)\n",
    "                else:\n",
    "                    prediction.append(0)\n",
    "\n",
    "            print(prediction.count(1), prediction.count(0))\n",
    "\n",
    "\n",
    "            print(user_labels.count(1))\n",
    "            precision = precision_score(user_labels, prediction)\n",
    "            recall = recall_score(user_labels, prediction)\n",
    "            print(\"Precision : \",precision,\" Recall : \", recall)\n",
    "            precisions.append(precision)\n",
    "            recalls.append(recall)\n",
    "        clear_output(wait = True)\n",
    "    return np.mean(precisions), np.mean(recalls)\n",
    "    "
   ]
  },
  {
   "cell_type": "code",
   "execution_count": 89,
   "metadata": {},
   "outputs": [
    {
     "name": "stderr",
     "output_type": "stream",
     "text": [
      "100%|██████████| 352/352 [03:37<00:00,  1.61it/s]\n"
     ]
    }
   ],
   "source": [
    "precisions = []\n",
    "recalls = []\n",
    "for N in [10,20,30,40,50]:\n",
    "    precision, recall = results_top_N_experiment(N)\n",
    "    precisions.append(precision)\n",
    "    recalls.append(recall)"
   ]
  },
  {
   "cell_type": "code",
   "execution_count": 90,
   "metadata": {},
   "outputs": [
    {
     "data": {
      "image/png": "[encoded data removed]",
      "text/plain": [
       "<Figure size 432x288 with 1 Axes>"
      ]
     },
     "metadata": {
      "needs_background": "light"
     },
     "output_type": "display_data"
    }
   ],
   "source": [
    "plt.barh(['N = 10','N = 20','N = 30','N = 40','N = 50'],precisions, label = 'Precision')\n",
    "plt.show()"
   ]
  },
  {
   "cell_type": "code",
   "execution_count": 91,
   "metadata": {},
   "outputs": [
    {
     "data": {
      "image/png": "[encoded data removed]",
      "text/plain": [
       "<Figure size 432x288 with 1 Axes>"
      ]
     },
     "metadata": {
      "needs_background": "light"
     },
     "output_type": "display_data"
    }
   ],
   "source": [
    "plt.barh(['N = 10','N = 20','N = 30','N = 40','N = 50'], recalls, label = 'recall')\n",
    "plt.show()"
   ]
  },
  {
   "cell_type": "code",
   "execution_count": 62,
   "metadata": {},
   "outputs": [],
   "source": [
    "def predict(model, test_features, test_labels):\n",
    "    \"\"\"\n",
    "    Downstream ML task using edge embeddings to classify them \n",
    "    \"\"\"\n",
    "\n",
    "    #compute accuracy\n",
    "    test_preds=model.predict(test_features)\n",
    "\n",
    "    print(collections.Counter(np.array(test_preds)))\n",
    "    acc=accuracy_score(test_labels,test_preds)\n",
    "    recall=recall_score(test_labels,test_preds)\n",
    "    precision=precision_score(test_labels,test_preds)\n",
    "\n",
    "    print('Accuracy:',acc, 'Recall:',recall, 'Precision:',precision)\n",
    "    return test_preds"
   ]
  },
  {
   "cell_type": "code",
   "execution_count": 63,
   "metadata": {},
   "outputs": [
    {
     "name": "stderr",
     "output_type": "stream",
     "text": [
      "100%|██████████| 352/352 [00:01<00:00, 180.64it/s]\n",
      "100%|██████████| 76065/76065 [00:13<00:00, 5674.34it/s]\n"
     ]
    }
   ],
   "source": [
    "test_neg_edges = get_neg_edges_bipartite(G_test)\n",
    "# --- Create feature vector for all edges in training set and test set ---\n",
    "test_features = feature_extractor(G_test, test_neg_edges)"
   ]
  },
  {
   "cell_type": "code",
   "execution_count": 64,
   "metadata": {},
   "outputs": [],
   "source": [
    "test_labels = get_edges_values(G_test_gt, test_neg_edges)"
   ]
  },
  {
   "cell_type": "code",
   "execution_count": 65,
   "metadata": {},
   "outputs": [
    {
     "name": "stdout",
     "output_type": "stream",
     "text": [
      "Counter({0: 74901, 1: 1164})\n",
      "Accuracy: 0.976835601130612 Recall: 0.02689873417721519 Precision: 0.014604810996563574\n"
     ]
    }
   ],
   "source": [
    "preds = predict(model,test_features,test_labels)"
   ]
  }
 ],
 "metadata": {
  "interpreter": {
   "hash": "aee8b7b246df8f9039afb4144a1f6fd8d2ca17a180786b69acc140d282b71a49"
  },
  "kernelspec": {
   "display_name": "Python 3 (ipykernel)",
   "language": "python",
   "name": "python3"
  },
  "language_info": {
   "codemirror_mode": {
    "name": "ipython",
    "version": 3
   },
   "file_extension": ".py",
   "mimetype": "text/x-python",
   "name": "python",
   "nbconvert_exporter": "python",
   "pygments_lexer": "ipython3",
   "version": "3.9.2"
  }
 },
 "nbformat": 4,
 "nbformat_minor": 2
}
